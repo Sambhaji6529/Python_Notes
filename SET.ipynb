{
  "nbformat": 4,
  "nbformat_minor": 0,
  "metadata": {
    "colab": {
      "provenance": [],
      "authorship_tag": "ABX9TyNUdREqDx0pTcYQxpgHeNTK",
      "include_colab_link": true
    },
    "kernelspec": {
      "name": "python3",
      "display_name": "Python 3"
    },
    "language_info": {
      "name": "python"
    }
  },
  "cells": [
    {
      "cell_type": "markdown",
      "metadata": {
        "id": "view-in-github",
        "colab_type": "text"
      },
      "source": [
        "<a href=\"https://colab.research.google.com/github/Sambhaji6529/Python_Notes/blob/main/SET.ipynb\" target=\"_parent\"><img src=\"https://colab.research.google.com/assets/colab-badge.svg\" alt=\"Open In Colab\"/></a>"
      ]
    },
    {
      "cell_type": "markdown",
      "source": [
        "# **SET**\n",
        "\n",
        "*   Sets are Unordered Collection of data items.\n",
        "*   Duplicates are not allowed.\n",
        "\n",
        "\n",
        "*   They Store Multiple items in single variable.\n",
        "*   Set items are separated by commas and enclosed with curly barckets **{}**\n",
        "\n",
        "\n",
        "*   Set objects are mutable i.e once we creates set object we can perform any changes in that object based on our requirement.\n",
        "\n",
        "*   We can apply mathematical operations like,\n",
        "\n",
        "    **Union,intersection,difference** ect. on set objects.\n",
        "\n",
        "\n",
        "*   Python Used to store collection of data, There are \n",
        "*   List,Tuple,Dictionary all different qualities and usage.\n",
        "\n",
        "\n",
        "\n",
        "\n",
        "\n",
        "\n",
        "\n",
        "\n",
        "\n"
      ],
      "metadata": {
        "id": "jrj9z7ZZVNrL"
      }
    },
    {
      "cell_type": "code",
      "execution_count": null,
      "metadata": {
        "colab": {
          "base_uri": "https://localhost:8080/"
        },
        "id": "Oyz9DPJOSfVL",
        "outputId": "44237991-f618-4de7-9d1b-6f26c25074ed"
      },
      "outputs": [
        {
          "output_type": "stream",
          "name": "stdout",
          "text": [
            "{40, 10, 20, 30}\n",
            "<class 'set'>\n"
          ]
        }
      ],
      "source": [
        "s={10,20,30,40}\n",
        "print(s)\n",
        "print(type(s))"
      ]
    },
    {
      "cell_type": "code",
      "source": [
        "#We can create set objects by using set() Function s = set(any sequence)\n",
        "l=[10,20,30,40,10,20,10]\n",
        "s=set(l)\n",
        "print(s)"
      ],
      "metadata": {
        "colab": {
          "base_uri": "https://localhost:8080/"
        },
        "id": "AdKsklPSXm24",
        "outputId": "666a25bb-9836-4cf3-849b-80271a25e13d"
      },
      "execution_count": null,
      "outputs": [
        {
          "output_type": "stream",
          "name": "stdout",
          "text": [
            "{40, 10, 20, 30}\n"
          ]
        }
      ]
    },
    {
      "cell_type": "code",
      "source": [
        "s=set(range(5))\n",
        "print(s)"
      ],
      "metadata": {
        "colab": {
          "base_uri": "https://localhost:8080/"
        },
        "id": "a3My7CjDYIIk",
        "outputId": "d5d64624-871e-4073-d2cf-6d4bd4ce8c1e"
      },
      "execution_count": null,
      "outputs": [
        {
          "output_type": "stream",
          "name": "stdout",
          "text": [
            "{0, 1, 2, 3, 4}\n"
          ]
        }
      ]
    },
    {
      "cell_type": "markdown",
      "source": [
        "\n",
        "# **Important Functions of Set:**"
      ],
      "metadata": {
        "id": "eCATdgJCYSGO"
      }
    },
    {
      "cell_type": "code",
      "source": [
        "# 1) add(x): add item x to the set\n",
        "s={10,20,30}\n",
        "s.add(40);\n",
        "print(s)"
      ],
      "metadata": {
        "colab": {
          "base_uri": "https://localhost:8080/"
        },
        "id": "MdI5elNdYVN6",
        "outputId": "bbdddd6b-12cc-4d4c-fe2c-81fb8195fcc1"
      },
      "execution_count": null,
      "outputs": [
        {
          "output_type": "stream",
          "name": "stdout",
          "text": [
            "{40, 10, 20, 30}\n"
          ]
        }
      ]
    },
    {
      "cell_type": "code",
      "source": [
        "# 2)  update(x,y,z): add multiple items to the set\n",
        "s={10,20,30}\n",
        "l=[40,50,60,10]\n",
        "s.update(l,range(5))\n",
        "print(s)"
      ],
      "metadata": {
        "colab": {
          "base_uri": "https://localhost:8080/"
        },
        "id": "VGUGrMwVYpsD",
        "outputId": "a81d6d5f-55a1-4b56-ab9d-95524765553b"
      },
      "execution_count": null,
      "outputs": [
        {
          "output_type": "stream",
          "name": "stdout",
          "text": [
            "{0, 1, 2, 3, 4, 40, 10, 50, 20, 60, 30}\n"
          ]
        }
      ]
    },
    {
      "cell_type": "code",
      "source": [
        "#3. copy(): returns copy of the set(cloning)\n",
        "s={10,20,30}\n",
        "s1=s.copy()\n",
        "print(s1)"
      ],
      "metadata": {
        "colab": {
          "base_uri": "https://localhost:8080/"
        },
        "id": "oK0agwnMc9zx",
        "outputId": "ca4768f9-279e-4589-94d1-06928f0bcd49"
      },
      "execution_count": null,
      "outputs": [
        {
          "output_type": "stream",
          "name": "stdout",
          "text": [
            "{10, 20, 30}\n"
          ]
        }
      ]
    },
    {
      "cell_type": "code",
      "source": [
        "#4. pop(): It removes and returns some random element from the set\n",
        "s={40,10,30,20,} # only 1st index remove \n",
        "print(s)\n",
        "print(s.pop())"
      ],
      "metadata": {
        "colab": {
          "base_uri": "https://localhost:8080/"
        },
        "id": "HIgxohkXdTWy",
        "outputId": "94f4e478-b4c6-44c8-f910-75a92ff9ded5"
      },
      "execution_count": null,
      "outputs": [
        {
          "output_type": "stream",
          "name": "stdout",
          "text": [
            "{40, 10, 20, 30}\n",
            "40\n"
          ]
        }
      ]
    },
    {
      "cell_type": "code",
      "source": [
        "#5. remove(x):removes specified item from the set\n",
        "s={40,10,30,20}\n",
        "s.remove(20\n",
        "         )\n",
        "print(s)"
      ],
      "metadata": {
        "colab": {
          "base_uri": "https://localhost:8080/"
        },
        "id": "z0Uwd3ariHtU",
        "outputId": "48464341-35ad-45e8-b8dd-59f3a63c37e4"
      },
      "execution_count": null,
      "outputs": [
        {
          "output_type": "stream",
          "name": "stdout",
          "text": [
            "{40, 10, 30}\n"
          ]
        }
      ]
    },
    {
      "cell_type": "code",
      "source": [
        "#6.  discard(): It removes specified element from the space\n",
        "# If specified error not present in the set then it will not throw error\n",
        "s={40,10,30,20}\n",
        "s.discard(40)\n",
        "print(s)"
      ],
      "metadata": {
        "colab": {
          "base_uri": "https://localhost:8080/"
        },
        "id": "Jm2H3aSYnjOo",
        "outputId": "256e74f1-456d-4d5f-bcd1-87f1a3cb760d"
      },
      "execution_count": 2,
      "outputs": [
        {
          "output_type": "stream",
          "name": "stdout",
          "text": [
            "{10, 20, 30}\n"
          ]
        }
      ]
    },
    {
      "cell_type": "code",
      "source": [
        "#7. clear(): to remove all the elements from the set\n",
        "s={10,20,30}\n",
        "print(s)\n",
        "s.clear()\n",
        "print(s)"
      ],
      "metadata": {
        "colab": {
          "base_uri": "https://localhost:8080/"
        },
        "id": "r5Pg86fGorsd",
        "outputId": "7e6332f3-3065-4f70-8878-34f56474e2a1"
      },
      "execution_count": 7,
      "outputs": [
        {
          "output_type": "stream",
          "name": "stdout",
          "text": [
            "{10, 20, 30}\n",
            "set()\n"
          ]
        }
      ]
    },
    {
      "cell_type": "markdown",
      "source": [
        "# **IMPORTANT CONCEPTS**\n",
        "\n",
        "# Mathematical Operations on the Set:"
      ],
      "metadata": {
        "id": "TWKBgPKHpE-i"
      }
    },
    {
      "cell_type": "code",
      "source": [
        "#1. union(): \n",
        "# Syntax: x.union(y) OR x|y: Return all the elements present in both sets\n",
        "x={10,20,30,40}\n",
        "y={30,40,50,60}\n",
        "print(x.union(y))\n",
        "print(x|y)"
      ],
      "metadata": {
        "colab": {
          "base_uri": "https://localhost:8080/"
        },
        "id": "raLvCP9kpVwb",
        "outputId": "5f784d13-22b2-4e09-9304-e5383b42a8a3"
      },
      "execution_count": 10,
      "outputs": [
        {
          "output_type": "stream",
          "name": "stdout",
          "text": [
            "{40, 10, 50, 20, 60, 30}\n",
            "{40, 10, 50, 20, 60, 30}\n"
          ]
        }
      ]
    },
    {
      "cell_type": "code",
      "source": [
        "# 2. intersection():\n",
        "#Syntax: x.intersection(y) or x&y\n",
        "#Returns common elements present in both x and y\n",
        "x={10,20,30,40}\n",
        "y={30,40,50,60}\n",
        "print(x.intersection(y))\n",
        "print(x&y)"
      ],
      "metadata": {
        "colab": {
          "base_uri": "https://localhost:8080/"
        },
        "id": "PvR6OacYp05-",
        "outputId": "3195a2ac-a742-4213-ac13-b6ca71cf6a4e"
      },
      "execution_count": 13,
      "outputs": [
        {
          "output_type": "stream",
          "name": "stdout",
          "text": [
            "{40, 30}\n",
            "{40, 30}\n"
          ]
        }
      ]
    },
    {
      "cell_type": "code",
      "source": [
        "# 3. difference():\n",
        "# Syntax: x.difference(y) OR x-y.\n",
        "#Returns the elements present in x but not in y.\n",
        "x={10,20,30,40}\n",
        "y={30,40,50,60}\n",
        "print(x.difference(y))\n",
        "print(y.difference(x))#50,60\n",
        "print(x-y)\n",
        "print(y-x)#50,60"
      ],
      "metadata": {
        "colab": {
          "base_uri": "https://localhost:8080/"
        },
        "id": "6IQdoH5CqJ9o",
        "outputId": "fd01fb32-1fe5-43a6-8d0c-98ed3865650a"
      },
      "execution_count": 17,
      "outputs": [
        {
          "output_type": "stream",
          "name": "stdout",
          "text": [
            "{10, 20}\n",
            "{50, 60}\n",
            "{10, 20}\n",
            "{50, 60}\n"
          ]
        }
      ]
    },
    {
      "cell_type": "code",
      "source": [
        "#4. symmetric_difference():\n",
        "# x.symmetric_difference(y) OR x^y\n",
        "#Returns elements present in either x OR y but not in both.\n",
        "x={10,20,30,40}\n",
        "y={30,40,50,60}\n",
        "print(x.symmetric_difference(y))"
      ],
      "metadata": {
        "colab": {
          "base_uri": "https://localhost:8080/"
        },
        "id": "J7mQTA4jq5wc",
        "outputId": "dc0ebc71-89af-4103-8598-823d887c6204"
      },
      "execution_count": 19,
      "outputs": [
        {
          "output_type": "stream",
          "name": "stdout",
          "text": [
            "{10, 50, 20, 60}\n"
          ]
        }
      ]
    },
    {
      "cell_type": "markdown",
      "source": [
        "# **Membership Operators: (in, not in)**"
      ],
      "metadata": {
        "id": "WufGD6RFrpdk"
      }
    },
    {
      "cell_type": "code",
      "source": [
        "s=set(\"python\")\n",
        "print(s)\n",
        "print('d'in s)\n",
        "print('p'in s)\n",
        "print('n'in s)"
      ],
      "metadata": {
        "colab": {
          "base_uri": "https://localhost:8080/"
        },
        "id": "nEvfuCOvrrPp",
        "outputId": "69cafc9c-4434-4959-ffab-4df300b38b22"
      },
      "execution_count": 21,
      "outputs": [
        {
          "output_type": "stream",
          "name": "stdout",
          "text": [
            "{'h', 'y', 'n', 'o', 'p', 't'}\n",
            "False\n",
            "True\n",
            "True\n"
          ]
        }
      ]
    },
    {
      "cell_type": "markdown",
      "source": [
        "# **Set Comprehension:**"
      ],
      "metadata": {
        "id": "dev7cei_sQnc"
      }
    },
    {
      "cell_type": "code",
      "source": [
        "#Set comprehension is possible.\n",
        "s={x*x for x in range(5)}\n",
        "print(s)"
      ],
      "metadata": {
        "colab": {
          "base_uri": "https://localhost:8080/"
        },
        "id": "1oDUdaVIsS3c",
        "outputId": "be8a01ed-54e4-4a8f-fefb-b351b67462d0"
      },
      "execution_count": 22,
      "outputs": [
        {
          "output_type": "stream",
          "name": "stdout",
          "text": [
            "{0, 1, 4, 9, 16}\n"
          ]
        }
      ]
    },
    {
      "cell_type": "markdown",
      "source": [
        "# **Set Objects won't support indexing and slicing:**\n"
      ],
      "metadata": {
        "id": "uEvoC7trs0YZ"
      }
    },
    {
      "cell_type": "code",
      "source": [
        "s={10,20,30,40}\n",
        "print(s[0]) #TypeError:'set'objectdoesnotsupportindexing\n",
        "print(s[1:3]) #TypeError: 'set' object is not subscriptable"
      ],
      "metadata": {
        "colab": {
          "base_uri": "https://localhost:8080/",
          "height": 208
        },
        "id": "pZX50Ftzs2qi",
        "outputId": "d4953af5-cc55-425a-aea1-853675e34032"
      },
      "execution_count": 24,
      "outputs": [
        {
          "output_type": "error",
          "ename": "TypeError",
          "evalue": "ignored",
          "traceback": [
            "\u001b[0;31m---------------------------------------------------------------------------\u001b[0m",
            "\u001b[0;31mTypeError\u001b[0m                                 Traceback (most recent call last)",
            "\u001b[0;32m<ipython-input-24-9b9850282237>\u001b[0m in \u001b[0;36m<module>\u001b[0;34m\u001b[0m\n\u001b[1;32m      1\u001b[0m \u001b[0ms\u001b[0m\u001b[0;34m=\u001b[0m\u001b[0;34m{\u001b[0m\u001b[0;36m10\u001b[0m\u001b[0;34m,\u001b[0m\u001b[0;36m20\u001b[0m\u001b[0;34m,\u001b[0m\u001b[0;36m30\u001b[0m\u001b[0;34m,\u001b[0m\u001b[0;36m40\u001b[0m\u001b[0;34m}\u001b[0m\u001b[0;34m\u001b[0m\u001b[0;34m\u001b[0m\u001b[0m\n\u001b[0;32m----> 2\u001b[0;31m \u001b[0mprint\u001b[0m\u001b[0;34m(\u001b[0m\u001b[0ms\u001b[0m\u001b[0;34m[\u001b[0m\u001b[0;36m0\u001b[0m\u001b[0;34m]\u001b[0m\u001b[0;34m)\u001b[0m \u001b[0;31m# TypeError:'set'objectdoesnotsupportindexing\u001b[0m\u001b[0;34m\u001b[0m\u001b[0;34m\u001b[0m\u001b[0m\n\u001b[0m\u001b[1;32m      3\u001b[0m \u001b[0mprint\u001b[0m\u001b[0;34m(\u001b[0m\u001b[0ms\u001b[0m\u001b[0;34m[\u001b[0m\u001b[0;36m1\u001b[0m\u001b[0;34m:\u001b[0m\u001b[0;36m3\u001b[0m\u001b[0;34m]\u001b[0m\u001b[0;34m)\u001b[0m \u001b[0;31m# TypeError: 'set' object is not subscriptable\u001b[0m\u001b[0;34m\u001b[0m\u001b[0;34m\u001b[0m\u001b[0m\n",
            "\u001b[0;31mTypeError\u001b[0m: 'set' object is not subscriptable"
          ]
        }
      ]
    },
    {
      "cell_type": "markdown",
      "source": [
        "Explanation:-\n",
        "\n",
        "insertion order preserved\n",
        "\n",
        "Insertion order refers to the order in which you are adding elements to the data structure (i.e., a collection like List , Set , Map , etc..). For example, a List object maintains the order in which you are adding elements, whereas a Set object doesn't maintain the order of the elements in which they are inserted."
      ],
      "metadata": {
        "id": "tX-Sydinvj8R"
      }
    }
  ]
}