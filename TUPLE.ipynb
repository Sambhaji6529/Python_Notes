{
  "nbformat": 4,
  "nbformat_minor": 0,
  "metadata": {
    "colab": {
      "provenance": [],
      "authorship_tag": "ABX9TyNiS/D7KLEQ2qbkDQ7QtkKp",
      "include_colab_link": true
    },
    "kernelspec": {
      "name": "python3",
      "display_name": "Python 3"
    },
    "language_info": {
      "name": "python"
    }
  },
  "cells": [
    {
      "cell_type": "markdown",
      "metadata": {
        "id": "view-in-github",
        "colab_type": "text"
      },
      "source": [
        "<a href=\"https://colab.research.google.com/github/Sambhaji6529/Python_Notes/blob/main/TUPLE.ipynb\" target=\"_parent\"><img src=\"https://colab.research.google.com/assets/colab-badge.svg\" alt=\"Open In Colab\"/></a>"
      ]
    },
    {
      "cell_type": "markdown",
      "source": [
        "**Important Functions of Tuple:**"
      ],
      "metadata": {
        "id": "aNXjVrneHwwO"
      }
    },
    {
      "cell_type": "code",
      "execution_count": null,
      "metadata": {
        "id": "S0qcXwdxMuVi",
        "colab": {
          "base_uri": "https://localhost:8080/"
        },
        "outputId": "9b1ac99a-2846-41b6-f049-1174d3773947"
      },
      "outputs": [
        {
          "output_type": "execute_result",
          "data": {
            "text/plain": [
              "7"
            ]
          },
          "metadata": {},
          "execution_count": 5
        }
      ],
      "source": [
        "#1. len()\n",
        "t=(10,20,30,40,50,60,70)\n",
        "len(t)\n"
      ]
    },
    {
      "cell_type": "code",
      "source": [
        "#2. count():To return number of occurrences of given element in the tuple\n",
        "t=(1,2,3,4,5,6,7,1,5,2,7,)\n",
        "t.count(7)"
      ],
      "metadata": {
        "colab": {
          "base_uri": "https://localhost:8080/"
        },
        "id": "Y6G7sva_IXZc",
        "outputId": "32c7cb3b-d3a9-4645-852d-7b3b2744c62f"
      },
      "execution_count": null,
      "outputs": [
        {
          "output_type": "execute_result",
          "data": {
            "text/plain": [
              "2"
            ]
          },
          "metadata": {},
          "execution_count": 10
        }
      ]
    },
    {
      "cell_type": "code",
      "source": [
        "# 3. index(): Returns index of first occurrence of the given element.\n",
        "# If the specified element is not available then we will get ValueError.\n",
        "t=(1,2,3,4,4,5,5,6,2)\n",
        "t.index(2)"
      ],
      "metadata": {
        "colab": {
          "base_uri": "https://localhost:8080/"
        },
        "id": "JEZn9SjfI8ho",
        "outputId": "7ba1ca8c-776f-453e-9d74-2859cfa5e483"
      },
      "execution_count": null,
      "outputs": [
        {
          "output_type": "execute_result",
          "data": {
            "text/plain": [
              "1"
            ]
          },
          "metadata": {},
          "execution_count": 12
        }
      ]
    },
    {
      "cell_type": "code",
      "source": [
        "# 4. sorted(): To sort elements based on default natural sorting order\n",
        "t=(10,20,30,20,10)\n",
        "x = sorted(t)\n",
        "print(x)"
      ],
      "metadata": {
        "colab": {
          "base_uri": "https://localhost:8080/"
        },
        "id": "Nmtk76vsJZLP",
        "outputId": "20df6988-0a77-4942-f276-12fb609e0bef"
      },
      "execution_count": null,
      "outputs": [
        {
          "output_type": "stream",
          "name": "stdout",
          "text": [
            "[10, 10, 20, 20, 30]\n"
          ]
        }
      ]
    },
    {
      "cell_type": "code",
      "source": [
        "#We can sort according to reverse of default natural sorting order as follows\n",
        "t = sorted(t, reverse = True)\n",
        "print(t)"
      ],
      "metadata": {
        "colab": {
          "base_uri": "https://localhost:8080/"
        },
        "id": "14iJOXt8KMiV",
        "outputId": "4d3a7c04-ebdf-4b8d-a6ed-c18171af664d"
      },
      "execution_count": null,
      "outputs": [
        {
          "output_type": "stream",
          "name": "stdout",
          "text": [
            "[30, 20, 20, 10, 10]\n"
          ]
        }
      ]
    },
    {
      "cell_type": "code",
      "source": [
        "# 5. min() and max() functions:\n",
        "#These functions return min and max values according to default natural sorting order.\n",
        "t=(10,20,30,40,50)\n",
        "print(min(t))\n",
        "print(max(t))"
      ],
      "metadata": {
        "colab": {
          "base_uri": "https://localhost:8080/"
        },
        "id": "YlOkYpVPKwVG",
        "outputId": "ac9f37ad-d50d-43ce-9d73-923e5366833e"
      },
      "execution_count": null,
      "outputs": [
        {
          "output_type": "stream",
          "name": "stdout",
          "text": [
            "10\n",
            "50\n"
          ]
        }
      ]
    },
    {
      "cell_type": "markdown",
      "source": [
        "**Tuple Comprehension:**\n",
        "\n",
        "Tuple Comprehension is not supported by Python.\n",
        "\n",
        "t = ( x**2 for x in range(1,6))\n",
        "\n",
        "Here we are not getting tuple object and we are getting generator object.\n",
        "\n",
        "1) t= ( x**2 for x in range(1,6))\n",
        "\n",
        "2) print(type(t))\n",
        "\n",
        "3) for x in t:\n",
        "\n",
        "4) print(x)"
      ],
      "metadata": {
        "id": "LN0vufaRLd0Y"
      }
    },
    {
      "cell_type": "code",
      "source": [
        "t=(x**2 for x in range(1,6))\n",
        "print(type(t))\n",
        "for x in t:\n",
        "  print(x)"
      ],
      "metadata": {
        "colab": {
          "base_uri": "https://localhost:8080/"
        },
        "id": "hbGWmJvdLoCS",
        "outputId": "8ffe158d-13a4-42d2-dc28-5df5ce06603d"
      },
      "execution_count": null,
      "outputs": [
        {
          "output_type": "stream",
          "name": "stdout",
          "text": [
            "<class 'generator'>\n",
            "1\n",
            "4\n",
            "9\n",
            "16\n",
            "25\n"
          ]
        }
      ]
    },
    {
      "cell_type": "markdown",
      "source": [
        "**Q. Write a Program to take a Tuple of Numbers from the Keyboard and Print its Sum and Average?**"
      ],
      "metadata": {
        "id": "--7NRgl9iGxe"
      }
    },
    {
      "cell_type": "code",
      "source": [
        "t=eval(input(\"EnterTupleofNumbers:\"))\n",
        "l=len(t)\n",
        "sum=0\n",
        "for x in t:\n",
        "  sum=sum+x\n",
        "print(\"TheSum=\",sum)\n",
        "print(\"TheAverage=\",sum/l)"
      ],
      "metadata": {
        "colab": {
          "base_uri": "https://localhost:8080/"
        },
        "id": "ZvAbMDo9iBs9",
        "outputId": "7e7004d6-f8a6-4922-d1f2-5da717fdb364"
      },
      "execution_count": 1,
      "outputs": [
        {
          "output_type": "stream",
          "name": "stdout",
          "text": [
            "EnterTupleofNumbers:1,5,2,3\n",
            "TheSum= 11\n",
            "TheAverage= 2.75\n"
          ]
        }
      ]
    }
  ]
}