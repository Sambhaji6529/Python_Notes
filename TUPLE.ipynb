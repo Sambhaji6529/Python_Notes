{
  "nbformat": 4,
  "nbformat_minor": 0,
  "metadata": {
    "colab": {
      "provenance": [],
      "authorship_tag": "ABX9TyNNhUhymmHvpU16L5wRwFAX",
      "include_colab_link": true
    },
    "kernelspec": {
      "name": "python3",
      "display_name": "Python 3"
    },
    "language_info": {
      "name": "python"
    }
  },
  "cells": [
    {
      "cell_type": "markdown",
      "metadata": {
        "id": "view-in-github",
        "colab_type": "text"
      },
      "source": [
        "<a href=\"https://colab.research.google.com/github/Sambhaji6529/Python_Notes/blob/main/TUPLE.ipynb\" target=\"_parent\"><img src=\"https://colab.research.google.com/assets/colab-badge.svg\" alt=\"Open In Colab\"/></a>"
      ]
    },
    {
      "cell_type": "markdown",
      "source": [
        "# **Tuple**"
      ],
      "metadata": {
        "id": "22QlOkB1v_k_"
      }
    },
    {
      "cell_type": "markdown",
      "source": [
        "1.Tuple is exactly same as List except that it is immutable. i.e once we creates Tuple object, we cannot perform any changes in that object. Hence Tuple is Read only version of List.\n",
        "\n",
        "2.If our data is fixed and never changes then we should go for Tuple.\n",
        "\n",
        "3.Insertion Order is preserved Duplicates are allowed Heterogeneous objects are allowed.\n",
        "\n",
        "4.We can preserve insertion order and we can differentiate duplicate objects by using index. Hence index will play very important role in Tuple also.\n",
        "\n",
        "5.Tuple support both +ve and -ve index. +ve index means forward direction (from left to right) and -ve index means backward direction (from right to left)\n",
        "\n",
        "6.We can represent Tuple elements within Parenthesis and with comma seperator."
      ],
      "metadata": {
        "id": "ZNrijhNRwFzO"
      }
    },
    {
      "cell_type": "code",
      "source": [
        "#parenthesis are optional\n",
        "t=10,20,30,40,50\n",
        "print(t)\n",
        "print(type(t))\n"
      ],
      "metadata": {
        "colab": {
          "base_uri": "https://localhost:8080/"
        },
        "id": "7aiZWZlpxT9W",
        "outputId": "b9f70ac0-b8bf-4fa1-f3c1-0dccf23ec5fa"
      },
      "execution_count": 1,
      "outputs": [
        {
          "output_type": "stream",
          "name": "stdout",
          "text": [
            "(10, 20, 30, 40, 50)\n",
            "<class 'tuple'>\n"
          ]
        }
      ]
    },
    {
      "cell_type": "markdown",
      "source": [
        "Q) Which of the following are valid Tuples?\n",
        "\n",
        "1) t=()\n",
        "\n",
        "2) t=10,20,30,40\n",
        "\n",
        "3) t=10\n",
        "\n",
        "4)t = (10,)\n",
        "\n",
        "5) t=(10,20,30,40)\n",
        "\n",
        "6) t = [10,20]\n",
        "\n",
        "tuple(t)"
      ],
      "metadata": {
        "id": "01O_81j6yUzO"
      }
    },
    {
      "cell_type": "markdown",
      "source": [
        "# Accessing Elements of Tuple:\n",
        "\n",
        "We can access either by index or by slice operator"
      ],
      "metadata": {
        "id": "nht7Imm8yc4o"
      }
    },
    {
      "cell_type": "code",
      "source": [
        "#By using index:\n",
        "t=(10,20,30,40,50)\n",
        "print(t[0])\n",
        "print(t[-1])\n",
        "print(t[100])#IndexError: tuple index out of range"
      ],
      "metadata": {
        "colab": {
          "base_uri": "https://localhost:8080/",
          "height": 244
        },
        "id": "Tq8gbf7Uymff",
        "outputId": "9c4d9a5a-e30d-4456-87aa-f43c8f66eb42"
      },
      "execution_count": 4,
      "outputs": [
        {
          "output_type": "stream",
          "name": "stdout",
          "text": [
            "10\n",
            "50\n"
          ]
        },
        {
          "output_type": "error",
          "ename": "IndexError",
          "evalue": "ignored",
          "traceback": [
            "\u001b[0;31m---------------------------------------------------------------------------\u001b[0m",
            "\u001b[0;31mIndexError\u001b[0m                                Traceback (most recent call last)",
            "\u001b[0;32m<ipython-input-4-b5edc7c839ee>\u001b[0m in \u001b[0;36m<module>\u001b[0;34m\u001b[0m\n\u001b[1;32m      3\u001b[0m \u001b[0mprint\u001b[0m\u001b[0;34m(\u001b[0m\u001b[0mt\u001b[0m\u001b[0;34m[\u001b[0m\u001b[0;36m0\u001b[0m\u001b[0;34m]\u001b[0m\u001b[0;34m)\u001b[0m\u001b[0;34m\u001b[0m\u001b[0;34m\u001b[0m\u001b[0m\n\u001b[1;32m      4\u001b[0m \u001b[0mprint\u001b[0m\u001b[0;34m(\u001b[0m\u001b[0mt\u001b[0m\u001b[0;34m[\u001b[0m\u001b[0;34m-\u001b[0m\u001b[0;36m1\u001b[0m\u001b[0;34m]\u001b[0m\u001b[0;34m)\u001b[0m\u001b[0;34m\u001b[0m\u001b[0;34m\u001b[0m\u001b[0m\n\u001b[0;32m----> 5\u001b[0;31m \u001b[0mprint\u001b[0m\u001b[0;34m(\u001b[0m\u001b[0mt\u001b[0m\u001b[0;34m[\u001b[0m\u001b[0;36m100\u001b[0m\u001b[0;34m]\u001b[0m\u001b[0;34m)\u001b[0m\u001b[0;34m\u001b[0m\u001b[0;34m\u001b[0m\u001b[0m\n\u001b[0m",
            "\u001b[0;31mIndexError\u001b[0m: tuple index out of range"
          ]
        }
      ]
    },
    {
      "cell_type": "code",
      "source": [
        "# By using Slice Operator:\n",
        "t=(10,20,30,40,50,60)\n",
        "print(t[2:5])\n",
        "print(t[2:100])\n",
        "print(t[::2])"
      ],
      "metadata": {
        "colab": {
          "base_uri": "https://localhost:8080/"
        },
        "id": "wZoKz8y8y_85",
        "outputId": "cd7ba91b-771f-4536-a0b6-dc102187c7e5"
      },
      "execution_count": 5,
      "outputs": [
        {
          "output_type": "stream",
          "name": "stdout",
          "text": [
            "(30, 40, 50)\n",
            "(30, 40, 50, 60)\n",
            "(10, 30, 50)\n"
          ]
        }
      ]
    },
    {
      "cell_type": "markdown",
      "source": [
        "# Tuple vs Immutability:\n",
        "\n",
        "Once we creates tuple, we cannot change its content. Hence tuple objects are immutable."
      ],
      "metadata": {
        "id": "rgtiLvOlzai2"
      }
    },
    {
      "cell_type": "code",
      "source": [
        "t=(1,2,3)\n",
        "t[1]=0"
      ],
      "metadata": {
        "colab": {
          "base_uri": "https://localhost:8080/",
          "height": 190
        },
        "id": "L1_eTaABzkOw",
        "outputId": "fe5a7522-dbff-405d-d8f0-1e01d9f841a1"
      },
      "execution_count": 6,
      "outputs": [
        {
          "output_type": "error",
          "ename": "TypeError",
          "evalue": "ignored",
          "traceback": [
            "\u001b[0;31m---------------------------------------------------------------------------\u001b[0m",
            "\u001b[0;31mTypeError\u001b[0m                                 Traceback (most recent call last)",
            "\u001b[0;32m<ipython-input-6-303c5c4eeb59>\u001b[0m in \u001b[0;36m<module>\u001b[0;34m\u001b[0m\n\u001b[1;32m      1\u001b[0m \u001b[0mt\u001b[0m\u001b[0;34m=\u001b[0m\u001b[0;34m(\u001b[0m\u001b[0;36m1\u001b[0m\u001b[0;34m,\u001b[0m\u001b[0;36m2\u001b[0m\u001b[0;34m,\u001b[0m\u001b[0;36m3\u001b[0m\u001b[0;34m)\u001b[0m\u001b[0;34m\u001b[0m\u001b[0;34m\u001b[0m\u001b[0m\n\u001b[0;32m----> 2\u001b[0;31m \u001b[0mt\u001b[0m\u001b[0;34m[\u001b[0m\u001b[0;36m1\u001b[0m\u001b[0;34m]\u001b[0m\u001b[0;34m=\u001b[0m\u001b[0;36m0\u001b[0m\u001b[0;34m\u001b[0m\u001b[0;34m\u001b[0m\u001b[0m\n\u001b[0m",
            "\u001b[0;31mTypeError\u001b[0m: 'tuple' object does not support item assignment"
          ]
        }
      ]
    },
    {
      "cell_type": "markdown",
      "source": [
        "# Mathematical Operators for Tuple:\n",
        "We can apply + and * operators for tuple"
      ],
      "metadata": {
        "id": "dODCcEtMzu1J"
      }
    },
    {
      "cell_type": "code",
      "source": [
        "# 1) Concatenation Operator (+):\n",
        "t1=(10,20,30,40)\n",
        "t2=(50,60,70,80)\n",
        "t3=t1+t2\n",
        "print(t3)"
      ],
      "metadata": {
        "colab": {
          "base_uri": "https://localhost:8080/"
        },
        "id": "V3E8P_-Lzzqb",
        "outputId": "e558a208-5149-4ecb-fd29-cc60e3ed9097"
      },
      "execution_count": 7,
      "outputs": [
        {
          "output_type": "stream",
          "name": "stdout",
          "text": [
            "(10, 20, 30, 40, 50, 60, 70, 80)\n"
          ]
        }
      ]
    },
    {
      "cell_type": "code",
      "source": [
        "#2) Multiplication Operator OR Repetition Operator (*)\n",
        "t1=(10,20,30,40)\n",
        "t2=t1*3\n",
        "print(t2)"
      ],
      "metadata": {
        "colab": {
          "base_uri": "https://localhost:8080/"
        },
        "id": "JIPOPhRK0Iw1",
        "outputId": "4b4bde04-7d56-4dbc-9e0a-7d0e737866a8"
      },
      "execution_count": 8,
      "outputs": [
        {
          "output_type": "stream",
          "name": "stdout",
          "text": [
            "(10, 20, 30, 40, 10, 20, 30, 40, 10, 20, 30, 40)\n"
          ]
        }
      ]
    },
    {
      "cell_type": "markdown",
      "source": [
        "**Important Functions of Tuple:**"
      ],
      "metadata": {
        "id": "aNXjVrneHwwO"
      }
    },
    {
      "cell_type": "code",
      "execution_count": null,
      "metadata": {
        "id": "S0qcXwdxMuVi",
        "colab": {
          "base_uri": "https://localhost:8080/"
        },
        "outputId": "9b1ac99a-2846-41b6-f049-1174d3773947"
      },
      "outputs": [
        {
          "output_type": "execute_result",
          "data": {
            "text/plain": [
              "7"
            ]
          },
          "metadata": {},
          "execution_count": 5
        }
      ],
      "source": [
        "#1. len()\n",
        "t=(10,20,30,40,50,60,70)\n",
        "len(t)\n"
      ]
    },
    {
      "cell_type": "code",
      "source": [
        "#2. count():To return number of occurrences of given element in the tuple\n",
        "t=(1,2,3,4,5,6,7,1,5,2,7,)\n",
        "t.count(7)"
      ],
      "metadata": {
        "colab": {
          "base_uri": "https://localhost:8080/"
        },
        "id": "Y6G7sva_IXZc",
        "outputId": "32c7cb3b-d3a9-4645-852d-7b3b2744c62f"
      },
      "execution_count": null,
      "outputs": [
        {
          "output_type": "execute_result",
          "data": {
            "text/plain": [
              "2"
            ]
          },
          "metadata": {},
          "execution_count": 10
        }
      ]
    },
    {
      "cell_type": "code",
      "source": [
        "# 3. index(): Returns index of first occurrence of the given element.\n",
        "# If the specified element is not available then we will get ValueError.\n",
        "t=(1,2,3,4,4,5,5,6,2)\n",
        "t.index(2)"
      ],
      "metadata": {
        "colab": {
          "base_uri": "https://localhost:8080/"
        },
        "id": "JEZn9SjfI8ho",
        "outputId": "7ba1ca8c-776f-453e-9d74-2859cfa5e483"
      },
      "execution_count": null,
      "outputs": [
        {
          "output_type": "execute_result",
          "data": {
            "text/plain": [
              "1"
            ]
          },
          "metadata": {},
          "execution_count": 12
        }
      ]
    },
    {
      "cell_type": "code",
      "source": [
        "# 4. sorted(): To sort elements based on default natural sorting order\n",
        "t=(10,20,30,20,10)\n",
        "x = sorted(t)\n",
        "print(x)"
      ],
      "metadata": {
        "colab": {
          "base_uri": "https://localhost:8080/"
        },
        "id": "Nmtk76vsJZLP",
        "outputId": "20df6988-0a77-4942-f276-12fb609e0bef"
      },
      "execution_count": null,
      "outputs": [
        {
          "output_type": "stream",
          "name": "stdout",
          "text": [
            "[10, 10, 20, 20, 30]\n"
          ]
        }
      ]
    },
    {
      "cell_type": "code",
      "source": [
        "#We can sort according to reverse of default natural sorting order as follows\n",
        "t = sorted(t, reverse = True)\n",
        "print(t)"
      ],
      "metadata": {
        "colab": {
          "base_uri": "https://localhost:8080/"
        },
        "id": "14iJOXt8KMiV",
        "outputId": "4d3a7c04-ebdf-4b8d-a6ed-c18171af664d"
      },
      "execution_count": null,
      "outputs": [
        {
          "output_type": "stream",
          "name": "stdout",
          "text": [
            "[30, 20, 20, 10, 10]\n"
          ]
        }
      ]
    },
    {
      "cell_type": "code",
      "source": [
        "# 5. min() and max() functions:\n",
        "#These functions return min and max values according to default natural sorting order.\n",
        "t=(10,20,30,40,50)\n",
        "print(min(t))\n",
        "print(max(t))"
      ],
      "metadata": {
        "colab": {
          "base_uri": "https://localhost:8080/"
        },
        "id": "YlOkYpVPKwVG",
        "outputId": "ac9f37ad-d50d-43ce-9d73-923e5366833e"
      },
      "execution_count": null,
      "outputs": [
        {
          "output_type": "stream",
          "name": "stdout",
          "text": [
            "10\n",
            "50\n"
          ]
        }
      ]
    },
    {
      "cell_type": "markdown",
      "source": [
        "**Tuple Comprehension:**\n",
        "\n",
        "Tuple Comprehension is not supported by Python.\n",
        "\n",
        "t = ( x**2 for x in range(1,6))\n",
        "\n",
        "Here we are not getting tuple object and we are getting generator object.\n",
        "\n",
        "1) t= ( x**2 for x in range(1,6))\n",
        "\n",
        "2) print(type(t))\n",
        "\n",
        "3) for x in t:\n",
        "\n",
        "4) print(x)"
      ],
      "metadata": {
        "id": "LN0vufaRLd0Y"
      }
    },
    {
      "cell_type": "code",
      "source": [
        "t=(x**2 for x in range(1,6))\n",
        "print(type(t))\n",
        "for x in t:\n",
        "  print(x)"
      ],
      "metadata": {
        "colab": {
          "base_uri": "https://localhost:8080/"
        },
        "id": "hbGWmJvdLoCS",
        "outputId": "8ffe158d-13a4-42d2-dc28-5df5ce06603d"
      },
      "execution_count": null,
      "outputs": [
        {
          "output_type": "stream",
          "name": "stdout",
          "text": [
            "<class 'generator'>\n",
            "1\n",
            "4\n",
            "9\n",
            "16\n",
            "25\n"
          ]
        }
      ]
    },
    {
      "cell_type": "markdown",
      "source": [
        "**Q. Write a Program to take a Tuple of Numbers from the Keyboard and Print its Sum and Average?**"
      ],
      "metadata": {
        "id": "--7NRgl9iGxe"
      }
    },
    {
      "cell_type": "code",
      "source": [
        "t=eval(input(\"EnterTupleofNumbers:\"))\n",
        "l=len(t)\n",
        "sum=0\n",
        "for x in t:\n",
        "  sum=sum+x\n",
        "print(\"TheSum=\",sum)\n",
        "print(\"TheAverage=\",sum/l)"
      ],
      "metadata": {
        "colab": {
          "base_uri": "https://localhost:8080/"
        },
        "id": "ZvAbMDo9iBs9",
        "outputId": "7e7004d6-f8a6-4922-d1f2-5da717fdb364"
      },
      "execution_count": null,
      "outputs": [
        {
          "output_type": "stream",
          "name": "stdout",
          "text": [
            "EnterTupleofNumbers:1,5,2,3\n",
            "TheSum= 11\n",
            "TheAverage= 2.75\n"
          ]
        }
      ]
    }
  ]
}