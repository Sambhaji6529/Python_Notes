{
  "nbformat": 4,
  "nbformat_minor": 0,
  "metadata": {
    "colab": {
      "provenance": [],
      "authorship_tag": "ABX9TyMSqnekpGOlMV3mrXBfRIvr",
      "include_colab_link": true
    },
    "kernelspec": {
      "name": "python3",
      "display_name": "Python 3"
    },
    "language_info": {
      "name": "python"
    }
  },
  "cells": [
    {
      "cell_type": "markdown",
      "metadata": {
        "id": "view-in-github",
        "colab_type": "text"
      },
      "source": [
        "<a href=\"https://colab.research.google.com/github/Sambhaji6529/Python_Notes/blob/main/String.ipynb\" target=\"_parent\"><img src=\"https://colab.research.google.com/assets/colab-badge.svg\" alt=\"Open In Colab\"/></a>"
      ]
    },
    {
      "cell_type": "markdown",
      "source": [
        "# String\n",
        "Any sequence of characters within either single quotes or double quotes is considered as a String.\n",
        "\n",
        "We can define multi-line String literals by using triple single or double quotes.\n",
        "\n",
        "We can also use triple quotes to use single quotes or double quotes as symbol inside String literal"
      ],
      "metadata": {
        "id": "EdNzlgYWd0_p"
      }
    },
    {
      "cell_type": "code",
      "execution_count": 8,
      "metadata": {
        "id": "o48W8we5dMNL"
      },
      "outputs": [],
      "source": [
        "s='data science'\n",
        "s=\"data\"\n",
        "a=''' This is a \"data science\" course'''\n"
      ]
    },
    {
      "cell_type": "markdown",
      "source": [
        "# **How to access characters of a string?**\n",
        "We can access characters of a string by using the following ways.\n",
        "\n",
        "1.By using index\n",
        "\n",
        "2.By using slice operator"
      ],
      "metadata": {
        "id": "d2lB144Jd9Ig"
      }
    },
    {
      "cell_type": "code",
      "source": [
        "# 1. accessing characters by using index\n",
        "s[0]"
      ],
      "metadata": {
        "colab": {
          "base_uri": "https://localhost:8080/",
          "height": 36
        },
        "id": "vgIfBu5eeAPe",
        "outputId": "0fdb797b-cef4-4407-bc4b-233fe6df3f20"
      },
      "execution_count": null,
      "outputs": [
        {
          "output_type": "execute_result",
          "data": {
            "text/plain": [
              "'d'"
            ],
            "application/vnd.google.colaboratory.intrinsic+json": {
              "type": "string"
            }
          },
          "metadata": {},
          "execution_count": 3
        }
      ]
    },
    {
      "cell_type": "code",
      "source": [
        "a[-1]"
      ],
      "metadata": {
        "colab": {
          "base_uri": "https://localhost:8080/",
          "height": 36
        },
        "id": "fxxRK_Y9ewqG",
        "outputId": "c02cc42f-e5fb-4f87-dd68-9b9ceb6c0dcc"
      },
      "execution_count": null,
      "outputs": [
        {
          "output_type": "execute_result",
          "data": {
            "text/plain": [
              "'e'"
            ],
            "application/vnd.google.colaboratory.intrinsic+json": {
              "type": "string"
            }
          },
          "metadata": {},
          "execution_count": 5
        }
      ]
    },
    {
      "cell_type": "code",
      "source": [
        "#2.Accesing characters by using slice operator\n",
        "# Syntax: s[begin index : end index : step]\n",
        "s=\"Learning Python is very very easy!!!\"\n",
        "s[1:7:1]"
      ],
      "metadata": {
        "colab": {
          "base_uri": "https://localhost:8080/",
          "height": 36
        },
        "id": "w_iRu0M1e88F",
        "outputId": "11d1931f-b250-476d-ef0c-bc2e666dd1ad"
      },
      "execution_count": 30,
      "outputs": [
        {
          "output_type": "execute_result",
          "data": {
            "text/plain": [
              "'earnin'"
            ],
            "application/vnd.google.colaboratory.intrinsic+json": {
              "type": "string"
            }
          },
          "metadata": {},
          "execution_count": 30
        }
      ]
    },
    {
      "cell_type": "code",
      "source": [
        "s[::-1]"
      ],
      "metadata": {
        "colab": {
          "base_uri": "https://localhost:8080/",
          "height": 36
        },
        "id": "m9zrQoL2fuZN",
        "outputId": "123b1d44-476c-41e3-c2e8-7d25fa14613d"
      },
      "execution_count": 33,
      "outputs": [
        {
          "output_type": "execute_result",
          "data": {
            "text/plain": [
              "'!!!ysae yrev yrev si nohtyP gninraeL'"
            ],
            "application/vnd.google.colaboratory.intrinsic+json": {
              "type": "string"
            }
          },
          "metadata": {},
          "execution_count": 33
        }
      ]
    },
    {
      "cell_type": "code",
      "source": [
        "#Note: slice operator never raises indexerror\n",
        "s[1000:2:-1]"
      ],
      "metadata": {
        "colab": {
          "base_uri": "https://localhost:8080/",
          "height": 36
        },
        "id": "ubYxvhiOf-zJ",
        "outputId": "f8983ebc-993a-45db-db68-fd564f987cb5"
      },
      "execution_count": 44,
      "outputs": [
        {
          "output_type": "execute_result",
          "data": {
            "text/plain": [
              "'!!!ysae yrev yrev si nohtyP gninr'"
            ],
            "application/vnd.google.colaboratory.intrinsic+json": {
              "type": "string"
            }
          },
          "metadata": {},
          "execution_count": 44
        }
      ]
    },
    {
      "cell_type": "markdown",
      "source": [
        "**len() in-built function**"
      ],
      "metadata": {
        "id": "AkWJM0kHgw6L"
      }
    },
    {
      "cell_type": "code",
      "source": [
        "len(s)"
      ],
      "metadata": {
        "colab": {
          "base_uri": "https://localhost:8080/"
        },
        "id": "fMYaxeQSf-rv",
        "outputId": "7a0afab4-3731-4c06-80f3-2079921f6723"
      },
      "execution_count": null,
      "outputs": [
        {
          "output_type": "execute_result",
          "data": {
            "text/plain": [
              "36"
            ]
          },
          "metadata": {},
          "execution_count": 22
        }
      ]
    },
    {
      "cell_type": "markdown",
      "source": [
        "Q)Write a Program to access each Character of String in Forward and Backward Direction by using while Loop?"
      ],
      "metadata": {
        "id": "Ipb-o-aph_H3"
      }
    },
    {
      "cell_type": "code",
      "source": [
        "s=\"Learning Python is very easy!!!\"\n",
        "n=len(s)\n",
        "i=0\n",
        "print(\"Forwarddirection\")\n",
        "while i <n: \n",
        "   print(s[i],end='')    #end print one line \n",
        "   i+=1\n",
        "\n",
        "print(\"backworddirection\")\n",
        "i=-1\n",
        "while i>=-n:\n",
        "  print(s[i],end='')\n",
        "  i=i-1"
      ],
      "metadata": {
        "colab": {
          "base_uri": "https://localhost:8080/"
        },
        "id": "2JU6lbFctVcm",
        "outputId": "e3cf2a42-213b-49f3-97a1-92715fa55d40"
      },
      "execution_count": 54,
      "outputs": [
        {
          "output_type": "stream",
          "name": "stdout",
          "text": [
            "Forwarddirection\n",
            "Learning Python is very easy!!!backworddirection\n",
            "!!!ysae yrev si nohtyP gninraeL"
          ]
        }
      ]
    },
    {
      "cell_type": "markdown",
      "source": [
        "# Checking Membership:\n",
        "We can check whether the character or string is the member of another string or not by using in and not in operators."
      ],
      "metadata": {
        "id": "3fh_0uE_kuvT"
      }
    },
    {
      "cell_type": "code",
      "source": [
        "s=\"data\"\n",
        "'d' in s"
      ],
      "metadata": {
        "colab": {
          "base_uri": "https://localhost:8080/"
        },
        "id": "ANBMOrfwkhPk",
        "outputId": "93555ebd-1b48-4d76-8950-42f2e1329b99"
      },
      "execution_count": null,
      "outputs": [
        {
          "output_type": "execute_result",
          "data": {
            "text/plain": [
              "True"
            ]
          },
          "metadata": {},
          "execution_count": 30
        }
      ]
    },
    {
      "cell_type": "markdown",
      "source": [
        "# Comparison of Strings\n",
        "We can use comparison operators (<, <=, >, >=) and equality operators (==, !=) for strings."
      ],
      "metadata": {
        "id": "xiIcLosakygY"
      }
    },
    {
      "cell_type": "code",
      "source": [
        "s1=input(\"Enter first string:\")\n",
        "s2=input(\"Enter Second string:\")\n",
        "if s1==s2:\n",
        "   print(\"Both strings are equal\")\n"
      ],
      "metadata": {
        "colab": {
          "base_uri": "https://localhost:8080/"
        },
        "id": "sQbgee7zk2OX",
        "outputId": "e5791cfc-ea1d-413f-a8c9-918efe1b096e"
      },
      "execution_count": null,
      "outputs": [
        {
          "output_type": "stream",
          "name": "stdout",
          "text": [
            "Enter first string:data\n",
            "Enter Second string:data\n",
            "Both strings are equal\n"
          ]
        }
      ]
    },
    {
      "cell_type": "markdown",
      "source": [
        "# Removing Spaces from the String:\n",
        "1)rstrip()-->To remove spaces at right hand side.\n",
        "\n",
        "2.lstrip()--> To remove spaces at left hand side.\n",
        "\n",
        " 3.strip()-->To remove spaces both sides."
      ],
      "metadata": {
        "id": "yu_cxJMwlr5E"
      }
    },
    {
      "cell_type": "code",
      "source": [
        "city=input(\"Enter your city Name:\")\n",
        "scity=city.strip()\n",
        "if scity=='Hyderabad':\n",
        "  print(\"hello hyderabad!..Adab\")\n",
        "elif scity==\"chennai\":\n",
        "  print(\"Hello kanndiga...Shubhodya\")\n",
        "else:\n",
        "  print(\"your enterd city is invalid\")"
      ],
      "metadata": {
        "colab": {
          "base_uri": "https://localhost:8080/"
        },
        "id": "BNSrmIghlqOD",
        "outputId": "656f4aa8-862c-409e-b9fe-e4b46e3295b5"
      },
      "execution_count": null,
      "outputs": [
        {
          "output_type": "stream",
          "name": "stdout",
          "text": [
            "Enter your city Name:Hyderabad\n",
            "hello hyderabad!..Adab\n"
          ]
        }
      ]
    },
    {
      "cell_type": "code",
      "source": [
        "s=\" data science \"\n",
        "s.strip()"
      ],
      "metadata": {
        "colab": {
          "base_uri": "https://localhost:8080/",
          "height": 36
        },
        "id": "vRSXx6yanCv0",
        "outputId": "fe95b73f-7775-4abb-ce26-627ded647dcb"
      },
      "execution_count": 60,
      "outputs": [
        {
          "output_type": "execute_result",
          "data": {
            "text/plain": [
              "'data science'"
            ],
            "application/vnd.google.colaboratory.intrinsic+json": {
              "type": "string"
            }
          },
          "metadata": {},
          "execution_count": 60
        }
      ]
    },
    {
      "cell_type": "code",
      "source": [
        "s.rstrip()"
      ],
      "metadata": {
        "colab": {
          "base_uri": "https://localhost:8080/",
          "height": 36
        },
        "id": "68aucs-0nDFl",
        "outputId": "0d933ea6-6d55-4cbd-8f48-141ff27589c0"
      },
      "execution_count": 61,
      "outputs": [
        {
          "output_type": "execute_result",
          "data": {
            "text/plain": [
              "' data science'"
            ],
            "application/vnd.google.colaboratory.intrinsic+json": {
              "type": "string"
            }
          },
          "metadata": {},
          "execution_count": 61
        }
      ]
    },
    {
      "cell_type": "code",
      "source": [
        "s.lstrip()"
      ],
      "metadata": {
        "colab": {
          "base_uri": "https://localhost:8080/",
          "height": 36
        },
        "id": "cTPIh9UJ0z6q",
        "outputId": "bd0bd832-a0cb-456e-d72f-1054dc14ee03"
      },
      "execution_count": 62,
      "outputs": [
        {
          "output_type": "execute_result",
          "data": {
            "text/plain": [
              "'data science '"
            ],
            "application/vnd.google.colaboratory.intrinsic+json": {
              "type": "string"
            }
          },
          "metadata": {},
          "execution_count": 62
        }
      ]
    },
    {
      "cell_type": "markdown",
      "source": [
        "**Finding Substrings:**\n",
        "\n",
        "We can use the following 4 methods\n",
        "\n",
        "For forward direction:\n",
        "\n",
        "1.find()\n",
        "\n",
        "2.index()\n",
        "\n",
        "For backward direction:\n",
        "\n",
        "1.rfind()\n",
        "\n",
        "2.rindex()\n",
        "\n"
      ],
      "metadata": {
        "id": "ocNmds92zllc"
      }
    },
    {
      "cell_type": "markdown",
      "source": [
        "1.find():-\n",
        "Returns index of first occurrence of the given substring. If it is not available then we will.\n",
        "\n",
        "get -1.\n"
      ],
      "metadata": {
        "id": "fP5stMD9zvQE"
      }
    },
    {
      "cell_type": "code",
      "source": [
        "s=\"data\"\n",
        "s.find(\"data\")\n",
        "#s.find(\"g\")"
      ],
      "metadata": {
        "colab": {
          "base_uri": "https://localhost:8080/"
        },
        "id": "k1chxa56z7-X",
        "outputId": "bf980cad-0838-49de-ffcb-1903e1ac2e2b"
      },
      "execution_count": 68,
      "outputs": [
        {
          "output_type": "execute_result",
          "data": {
            "text/plain": [
              "-1"
            ]
          },
          "metadata": {},
          "execution_count": 68
        }
      ]
    },
    {
      "cell_type": "code",
      "source": [
        "# syntax: s.find(substring,bEgin,end)\n",
        "s.find(\"a\",2,4)"
      ],
      "metadata": {
        "colab": {
          "base_uri": "https://localhost:8080/"
        },
        "id": "yyACcBDb0NSu",
        "outputId": "d4d61383-261f-4182-dd7a-b8c92fbc120a"
      },
      "execution_count": 69,
      "outputs": [
        {
          "output_type": "execute_result",
          "data": {
            "text/plain": [
              "3"
            ]
          },
          "metadata": {},
          "execution_count": 69
        }
      ]
    },
    {
      "cell_type": "markdown",
      "source": [
        "2)index()\n",
        "\n",
        "index() method is exactly same as find() method except that if the specified substring is not available then we will get ValueError."
      ],
      "metadata": {
        "id": "suyLzKDW2Jwc"
      }
    },
    {
      "cell_type": "code",
      "source": [
        "# we will get a error if the substring is not available\n",
        "s.index('m')"
      ],
      "metadata": {
        "colab": {
          "base_uri": "https://localhost:8080/",
          "height": 190
        },
        "id": "MwJ9Cr9p2LsB",
        "outputId": "5a9e3252-7899-4be2-815b-3944d1c064ca"
      },
      "execution_count": 74,
      "outputs": [
        {
          "output_type": "error",
          "ename": "ValueError",
          "evalue": "ignored",
          "traceback": [
            "\u001b[0;31m---------------------------------------------------------------------------\u001b[0m",
            "\u001b[0;31mValueError\u001b[0m                                Traceback (most recent call last)",
            "\u001b[0;32m<ipython-input-74-723cdd428aa2>\u001b[0m in \u001b[0;36m<module>\u001b[0;34m\u001b[0m\n\u001b[1;32m      1\u001b[0m \u001b[0;31m# we will get a error if the substring is not available\u001b[0m\u001b[0;34m\u001b[0m\u001b[0;34m\u001b[0m\u001b[0;34m\u001b[0m\u001b[0m\n\u001b[0;32m----> 2\u001b[0;31m \u001b[0ms\u001b[0m\u001b[0;34m.\u001b[0m\u001b[0mindex\u001b[0m\u001b[0;34m(\u001b[0m\u001b[0;34m'm'\u001b[0m\u001b[0;34m)\u001b[0m\u001b[0;34m\u001b[0m\u001b[0;34m\u001b[0m\u001b[0m\n\u001b[0m",
            "\u001b[0;31mValueError\u001b[0m: substring not found"
          ]
        }
      ]
    },
    {
      "cell_type": "code",
      "source": [
        "s.index('a')"
      ],
      "metadata": {
        "colab": {
          "base_uri": "https://localhost:8080/"
        },
        "id": "Anll6TrI2gBD",
        "outputId": "bb4cf64e-f2bc-4fc4-d5c4-1d58c4da8b60"
      },
      "execution_count": 75,
      "outputs": [
        {
          "output_type": "execute_result",
          "data": {
            "text/plain": [
              "1"
            ]
          },
          "metadata": {},
          "execution_count": 75
        }
      ]
    },
    {
      "cell_type": "markdown",
      "source": [
        "Q) Program to display all Positions of Substring in a given Main String\n",
        "\n"
      ],
      "metadata": {
        "id": "6U2yvQiR2l6I"
      }
    },
    {
      "cell_type": "code",
      "source": [
        "s=input(\"Entermainstring:\")\n",
        "subs=input(\"Entersubstring:\")\n",
        "flag=False\n",
        "pos=-1\n",
        "n=len(s)\n",
        "while True:\n",
        "  pos=s.find(subs,pos+1,n)\n",
        "  if pos==-1:\n",
        "    break\n",
        "  print(\"found at position\",pos)\n",
        "  flag=True\n",
        "if flag==False:\n",
        "  print(\"Not Found\")"
      ],
      "metadata": {
        "colab": {
          "base_uri": "https://localhost:8080/"
        },
        "id": "-xqjdCz42nJG",
        "outputId": "6a214ccc-0f0a-40a9-d37f-4e7b225b397f"
      },
      "execution_count": 76,
      "outputs": [
        {
          "output_type": "stream",
          "name": "stdout",
          "text": [
            "Entermainstring:sambhaji\n",
            "Entersubstring:a\n",
            "found at position 1\n",
            "found at position 5\n"
          ]
        }
      ]
    },
    {
      "cell_type": "markdown",
      "source": [
        "Count substring in the given String:\n",
        "\n",
        "We can find the number of occurrences of substring present in the given string by using count() method.\n",
        "\n",
        "s.count(substring)-->It will search through out the string.\n",
        "\n",
        "s.count(substring, bEgin, end)-->It will search from bEgin index to end-1 index."
      ],
      "metadata": {
        "id": "J3wUzNQI3016"
      }
    },
    {
      "cell_type": "code",
      "source": [
        "s=\"abcabacadedacas\"\n",
        "print(s.count('a')) #6\n",
        "print(s.count('b')) #2"
      ],
      "metadata": {
        "colab": {
          "base_uri": "https://localhost:8080/"
        },
        "id": "9KvjzNhY33xh",
        "outputId": "35bf48d8-d01a-4e15-8186-b530f3d9b740"
      },
      "execution_count": 80,
      "outputs": [
        {
          "output_type": "stream",
          "name": "stdout",
          "text": [
            "6\n",
            "2\n"
          ]
        }
      ]
    },
    {
      "cell_type": "markdown",
      "source": [
        "Replacing a String with another String:\n",
        "\n",
        "Syntax:-\n",
        "\n",
        "s.replace(oldstring, newstring)\n",
        "\n",
        "Inside s, every occurrence of old String will be replaced with new String."
      ],
      "metadata": {
        "id": "DuTF6V0s4eCx"
      }
    },
    {
      "cell_type": "code",
      "source": [
        "s = \"Learning Python is very difficult\"\n",
        "s1 = s.replace(\"difficult\",\"easy\")\n",
        "print(s1)"
      ],
      "metadata": {
        "colab": {
          "base_uri": "https://localhost:8080/"
        },
        "id": "nf3_fKNg4gVd",
        "outputId": "d895c210-38ef-4508-fc30-230849270e31"
      },
      "execution_count": 91,
      "outputs": [
        {
          "output_type": "stream",
          "name": "stdout",
          "text": [
            "Learning Python is very easy\n"
          ]
        }
      ]
    },
    {
      "cell_type": "markdown",
      "source": [
        "Splitting of Strings:\n",
        "\n",
        "We can split the given string according to specified seperator by using split() method.\n",
        "\n",
        "Syntax: l = s.split(seperator)"
      ],
      "metadata": {
        "id": "uJQ6UqTn6CsQ"
      }
    },
    {
      "cell_type": "code",
      "source": [
        "s=\"16-01-2023\"\n",
        "l=s.split('-')\n",
        "for x in l:\n",
        "  print(x)"
      ],
      "metadata": {
        "colab": {
          "base_uri": "https://localhost:8080/"
        },
        "id": "IuJKn3wN6qkK",
        "outputId": "736fcc6f-0fb4-4f3f-ace9-4471ee4bdec8"
      },
      "execution_count": 107,
      "outputs": [
        {
          "output_type": "stream",
          "name": "stdout",
          "text": [
            "16\n",
            "01\n",
            "2023\n"
          ]
        }
      ]
    },
    {
      "cell_type": "code",
      "source": [
        "l"
      ],
      "metadata": {
        "colab": {
          "base_uri": "https://localhost:8080/"
        },
        "id": "USKoxrY-8cNy",
        "outputId": "4230ea06-7ba0-451c-ba1a-5cdd1fdbaab4"
      },
      "execution_count": 108,
      "outputs": [
        {
          "output_type": "execute_result",
          "data": {
            "text/plain": [
              "['16', '01', '2023']"
            ]
          },
          "metadata": {},
          "execution_count": 108
        }
      ]
    },
    {
      "cell_type": "markdown",
      "source": [
        "# Joining Of Strings:\n",
        "s = seperator.join(group of strings)"
      ],
      "metadata": {
        "id": "FLpdJocx81to"
      }
    },
    {
      "cell_type": "code",
      "source": [
        "list1=[\"data\",\"science\",\"ai\"]\n",
        "\"-\".join(list1)"
      ],
      "metadata": {
        "colab": {
          "base_uri": "https://localhost:8080/",
          "height": 36
        },
        "id": "IWh7ceoU8zsB",
        "outputId": "b40e6970-83ca-4590-d86f-063939561f88"
      },
      "execution_count": 109,
      "outputs": [
        {
          "output_type": "execute_result",
          "data": {
            "text/plain": [
              "'data-science-ai'"
            ],
            "application/vnd.google.colaboratory.intrinsic+json": {
              "type": "string"
            }
          },
          "metadata": {},
          "execution_count": 109
        }
      ]
    },
    {
      "cell_type": "markdown",
      "source": [
        "Changing the case of a string:\n",
        "\n",
        "upper()-->To convert all characters to upper case.\n",
        "\n",
        "lower()-->To convert all characters to lower case.\n",
        "\n",
        "swapcase() --> Converts all lower case characters to upper case and all upper case characters to lower case\n",
        "\n",
        "title() --> To convert all character to title case. i.e first character in every word should be upper case and all remaining characters should be in lower case.\n",
        "\n",
        "capitalize() --> Only first character will be converted to upper case and all remaining characters can be converted to lower case.\n",
        "\n"
      ],
      "metadata": {
        "id": "uS2NUBb-9JiH"
      }
    },
    {
      "cell_type": "code",
      "source": [
        "s='learning python is very easy'\n",
        "print(s.upper())\n",
        "print(s.lower())\n",
        "print(s.swapcase())\n",
        "print(s.title())\n",
        "print(s.capitalize())"
      ],
      "metadata": {
        "colab": {
          "base_uri": "https://localhost:8080/"
        },
        "id": "Roua5NvI9NfM",
        "outputId": "6dde6230-ab5a-41b5-8b71-2387fc4a2413"
      },
      "execution_count": 118,
      "outputs": [
        {
          "output_type": "stream",
          "name": "stdout",
          "text": [
            "LEARNING PYTHON IS VERY EASY\n",
            "learning python is very easy\n",
            "LEARNING PYTHON IS VERY EASY\n",
            "Learning Python Is Very Easy\n",
            "Learning python is very easy\n"
          ]
        }
      ]
    },
    {
      "cell_type": "markdown",
      "source": [
        "# Checking Starting and Ending Part of the String:\n",
        "Python contains the following methods for this purpose.\n",
        "\n",
        "Syntax:-\n",
        "\n",
        "variablename.startwith(substring)\n",
        "\n",
        "s.startswith(substring)\n",
        "\n",
        "s.endswith(substring)"
      ],
      "metadata": {
        "id": "w8gdnezW-a-r"
      }
    },
    {
      "cell_type": "code",
      "source": [
        "s='learning python is very easy'\n",
        "print(s.startswith('learning'))\n",
        "print(s.startswith('python'))"
      ],
      "metadata": {
        "colab": {
          "base_uri": "https://localhost:8080/"
        },
        "id": "kWqgOSI1-eL_",
        "outputId": "ad71d098-6113-4da0-e4be-1a73be4edf13"
      },
      "execution_count": 121,
      "outputs": [
        {
          "output_type": "stream",
          "name": "stdout",
          "text": [
            "True\n",
            "False\n"
          ]
        }
      ]
    },
    {
      "cell_type": "code",
      "source": [
        "print(s.endswith('easy'))\n",
        "print(s.endswith('very'))"
      ],
      "metadata": {
        "colab": {
          "base_uri": "https://localhost:8080/"
        },
        "id": "CZDv8m1n_Jis",
        "outputId": "6e5e90b3-5df8-4834-c099-3cabaa12b227"
      },
      "execution_count": 124,
      "outputs": [
        {
          "output_type": "stream",
          "name": "stdout",
          "text": [
            "True\n",
            "False\n"
          ]
        }
      ]
    },
    {
      "cell_type": "markdown",
      "source": [
        "# To Check Type of Characters Present in a String:\n",
        "Python contains the following methods for this purpose.\n",
        "\n",
        "isalnum(): Returns True if all characters are alphanumeric( a to z , A to Z ,0 to9 ).\n",
        "\n",
        "isalpha(): Returns True if all characters are only alphabet symbols(a to z,A to Z)\n",
        "\n",
        "isdigit(): Returns True if all characters are digits only( 0 to 9)\n",
        "\n",
        "islower(): Returns True if all characters are lower case alphabet symbols\n",
        "\n",
        "isupper(): Returns True if all characters are upper case aplhabet symbols\n",
        "\n",
        "istitle(): Returns True if string is in title case\n",
        "\n",
        "isspace(): Returns True if string contains only spaces"
      ],
      "metadata": {
        "id": "UGflP7QX_2UO"
      }
    },
    {
      "cell_type": "code",
      "source": [
        "s='Datascience3423'\n",
        "print(s.isalnum())"
      ],
      "metadata": {
        "colab": {
          "base_uri": "https://localhost:8080/"
        },
        "id": "3yyvOa-__5Z9",
        "outputId": "0327e4b8-dc3d-4549-81d5-5882fb93335b"
      },
      "execution_count": 130,
      "outputs": [
        {
          "output_type": "stream",
          "name": "stdout",
          "text": [
            "True\n"
          ]
        }
      ]
    },
    {
      "cell_type": "code",
      "source": [
        "s1='python'\n",
        "print(s1.isalpha())"
      ],
      "metadata": {
        "colab": {
          "base_uri": "https://localhost:8080/"
        },
        "id": "xioacaNGBlLQ",
        "outputId": "baba0b0c-cfa6-4bcf-ba52-9010210ddeb5"
      },
      "execution_count": 137,
      "outputs": [
        {
          "output_type": "stream",
          "name": "stdout",
          "text": [
            "True\n"
          ]
        }
      ]
    },
    {
      "cell_type": "code",
      "source": [
        "a='12345'\n",
        "print(a.isdigit())"
      ],
      "metadata": {
        "colab": {
          "base_uri": "https://localhost:8080/"
        },
        "id": "8CUig4OfNRYn",
        "outputId": "082934a0-ec0d-49fe-f1a9-e4d843f2a2a8"
      },
      "execution_count": 141,
      "outputs": [
        {
          "output_type": "stream",
          "name": "stdout",
          "text": [
            "True\n"
          ]
        }
      ]
    },
    {
      "cell_type": "code",
      "source": [
        "a1='sambhaji'\n",
        "print(a1.isdigit())"
      ],
      "metadata": {
        "colab": {
          "base_uri": "https://localhost:8080/"
        },
        "id": "xt9rEW6HVD5F",
        "outputId": "a953de9b-c564-4a26-bc0d-26eabe472926"
      },
      "execution_count": 142,
      "outputs": [
        {
          "output_type": "stream",
          "name": "stdout",
          "text": [
            "False\n"
          ]
        }
      ]
    },
    {
      "cell_type": "code",
      "source": [
        "a1='ABC'\n",
        "print(a1.islower())"
      ],
      "metadata": {
        "colab": {
          "base_uri": "https://localhost:8080/"
        },
        "id": "Zl6h9OB8VWQ5",
        "outputId": "6324e747-7f07-4375-d9ca-38ff6a84369e"
      },
      "execution_count": 144,
      "outputs": [
        {
          "output_type": "stream",
          "name": "stdout",
          "text": [
            "False\n"
          ]
        }
      ]
    },
    {
      "cell_type": "code",
      "source": [
        "a1='abc'\n",
        "print(a1.islower())"
      ],
      "metadata": {
        "colab": {
          "base_uri": "https://localhost:8080/"
        },
        "id": "wgjYJDckWAp5",
        "outputId": "adf0ea07-c619-4cfe-ddeb-c81a94872b54"
      },
      "execution_count": 145,
      "outputs": [
        {
          "output_type": "stream",
          "name": "stdout",
          "text": [
            "True\n"
          ]
        }
      ]
    },
    {
      "cell_type": "code",
      "source": [
        "c='sambhaji'\n",
        "print(c.isupper())"
      ],
      "metadata": {
        "colab": {
          "base_uri": "https://localhost:8080/"
        },
        "id": "1GjDKJqmWWFv",
        "outputId": "f9892b79-a479-4460-f315-b1944590d0c5"
      },
      "execution_count": 146,
      "outputs": [
        {
          "output_type": "stream",
          "name": "stdout",
          "text": [
            "False\n"
          ]
        }
      ]
    },
    {
      "cell_type": "code",
      "source": [
        "c1='SAMBHAJI'\n",
        "print(c1.isupper())"
      ],
      "metadata": {
        "colab": {
          "base_uri": "https://localhost:8080/"
        },
        "id": "hWSkzf3dXT5z",
        "outputId": "ed54dff1-ea22-4630-a5c5-9686ab4550bd"
      },
      "execution_count": 147,
      "outputs": [
        {
          "output_type": "stream",
          "name": "stdout",
          "text": [
            "True\n"
          ]
        }
      ]
    },
    {
      "cell_type": "code",
      "source": [
        "d='Learning Python Is Easy'\n",
        "print(d.istitle())"
      ],
      "metadata": {
        "colab": {
          "base_uri": "https://localhost:8080/"
        },
        "id": "72CW7ObkXhgR",
        "outputId": "a00a5682-f261-4ecd-cb09-60d878f29acf"
      },
      "execution_count": 148,
      "outputs": [
        {
          "output_type": "stream",
          "name": "stdout",
          "text": [
            "True\n"
          ]
        }
      ]
    },
    {
      "cell_type": "code",
      "source": [
        "d1='learning python is easy'\n",
        "print(d1.istitle())"
      ],
      "metadata": {
        "colab": {
          "base_uri": "https://localhost:8080/"
        },
        "id": "Adhwe43FXukE",
        "outputId": "c1eb22f0-8221-49fe-9874-759d2d2d5a92"
      },
      "execution_count": 149,
      "outputs": [
        {
          "output_type": "stream",
          "name": "stdout",
          "text": [
            "False\n"
          ]
        }
      ]
    },
    {
      "cell_type": "code",
      "source": [
        "e='     python'\n",
        "print(e.isspace())"
      ],
      "metadata": {
        "colab": {
          "base_uri": "https://localhost:8080/"
        },
        "id": "suJR144-X66b",
        "outputId": "e4868198-2096-456b-f8f6-c39140d2caea"
      },
      "execution_count": 4,
      "outputs": [
        {
          "output_type": "stream",
          "name": "stdout",
          "text": [
            "False\n"
          ]
        }
      ]
    },
    {
      "cell_type": "code",
      "source": [
        "e1=' '  #only empty space is true \n",
        "print(e1.isspace())"
      ],
      "metadata": {
        "colab": {
          "base_uri": "https://localhost:8080/"
        },
        "id": "hqlAblyNZsvV",
        "outputId": "ac22dba7-cb01-4132-cecb-6a1061495cbd"
      },
      "execution_count": 7,
      "outputs": [
        {
          "output_type": "stream",
          "name": "stdout",
          "text": [
            "True\n"
          ]
        }
      ]
    },
    {
      "cell_type": "markdown",
      "source": [
        "Formatting the Strings:\n",
        "\n",
        "We can format the strings with variable values by using replacement operator {} and format() method."
      ],
      "metadata": {
        "id": "9vI0AnEP5h4I"
      }
    },
    {
      "cell_type": "code",
      "source": [
        "name='sambhaji'\n",
        "salary=20000\n",
        "age=20\n",
        "print(\"{}'s salary is {} and his is {}\".format(name,salary,age))\n",
        "print(\"{0}'s salary is {1} and his is {2}\".format(name,salary,age))\n",
        "print(\"{x}'s salary is {y} and his is {z}\".format(z=age,y=salary,x=name))"
      ],
      "metadata": {
        "colab": {
          "base_uri": "https://localhost:8080/"
        },
        "id": "NfDUMedd5m-U",
        "outputId": "014ed85e-d173-47e8-8c16-1137e6cc9b5e"
      },
      "execution_count": 14,
      "outputs": [
        {
          "output_type": "stream",
          "name": "stdout",
          "text": [
            "sambhaji's salary is 20000 and his is 20\n",
            "sambhaji's salary is 20000 and his is 20\n",
            "sambhaji's salary is 20000 and his is 20\n",
            "sambhaji's salary is 20000 and his is 20\n"
          ]
        }
      ]
    },
    {
      "cell_type": "markdown",
      "source": [
        "Q1) Write a Program to Reverse the given String"
      ],
      "metadata": {
        "id": "klkINvkB8mnQ"
      }
    },
    {
      "cell_type": "code",
      "source": [
        "s=input(\"Enter String\")\n",
        "print(s[::-1])"
      ],
      "metadata": {
        "colab": {
          "base_uri": "https://localhost:8080/"
        },
        "id": "BgDz1eFN8l3_",
        "outputId": "3756e3f9-e4b9-4a9e-fca3-9eaabd15f768"
      },
      "execution_count": 17,
      "outputs": [
        {
          "output_type": "stream",
          "name": "stdout",
          "text": [
            "Enter Stringpython\n",
            "nohtyp\n"
          ]
        }
      ]
    },
    {
      "cell_type": "code",
      "source": [
        "s='sambhaji'\n",
        "''.join(reversed(s))"
      ],
      "metadata": {
        "colab": {
          "base_uri": "https://localhost:8080/",
          "height": 36
        },
        "id": "dSBxnPSz9CkR",
        "outputId": "df7a8740-cae9-44f7-ebd2-5ad7854d9dd4"
      },
      "execution_count": 18,
      "outputs": [
        {
          "output_type": "execute_result",
          "data": {
            "text/plain": [
              "'ijahbmas'"
            ],
            "application/vnd.google.colaboratory.intrinsic+json": {
              "type": "string"
            }
          },
          "metadata": {},
          "execution_count": 18
        }
      ]
    },
    {
      "cell_type": "markdown",
      "source": [
        "Q2) Program to Reverse Order of Words\n",
        "\n",
        "Input: Learning Python is very Easy\n",
        "\n",
        "Output: Easy Very is Python Learning"
      ],
      "metadata": {
        "id": "tvWXFo0K9MAh"
      }
    },
    {
      "cell_type": "code",
      "source": [
        "s='Learning Python Is Very Easy'\n",
        "l=s.split()\n",
        "l1=[]\n",
        "i=len(l)-1\n",
        "while i>=0:\n",
        "  l1.append(l[i])\n",
        "  i=i-1\n",
        "output=' '.join(l1)\n",
        "print(output)"
      ],
      "metadata": {
        "colab": {
          "base_uri": "https://localhost:8080/"
        },
        "id": "8_fujeA89Om4",
        "outputId": "8a9e6c20-9914-4fdd-c90d-19156b16e9a6"
      },
      "execution_count": 23,
      "outputs": [
        {
          "output_type": "stream",
          "name": "stdout",
          "text": [
            "Easy Very Is Python Learning\n"
          ]
        }
      ]
    },
    {
      "cell_type": "markdown",
      "source": [
        "Q3) Write a Program to Remove Duplicate Characters from the given Input String?\n",
        "\n",
        "Input: ABCDABBCDABBBCCCDDEEEF\n",
        "\n",
        "Output: ABCDEF"
      ],
      "metadata": {
        "id": "DnwzAgSU-rXK"
      }
    },
    {
      "cell_type": "code",
      "source": [
        "s=input(\"Enter The String:\")\n",
        "l=[]\n",
        "for x in s:\n",
        "  if x not in l:\n",
        "     l.append(x)\n",
        "output=''.join(l)\n",
        "print(output)"
      ],
      "metadata": {
        "colab": {
          "base_uri": "https://localhost:8080/"
        },
        "id": "ikv2KimU-sCE",
        "outputId": "c66aad6e-4e2b-49aa-899c-a56ac0a9a782"
      },
      "execution_count": 29,
      "outputs": [
        {
          "output_type": "stream",
          "name": "stdout",
          "text": [
            "Enter The String:abcdabbcdabbbcccdeeef\n",
            "abcdef\n"
          ]
        }
      ]
    },
    {
      "cell_type": "markdown",
      "source": [
        "Q4) Write a Program to find the Number of Occurrences of each Character present in the given String?\n",
        "\n",
        "Input: ABCABCABBCDE\n",
        "\n",
        "Output: A-3,B-4,C-3,D-1,E-1"
      ],
      "metadata": {
        "id": "OK3foa6wANqW"
      }
    },
    {
      "cell_type": "code",
      "source": [
        "s=input(\"Enter Some String:\")\n",
        "d={}\n",
        "for x in s:\n",
        "  if x in d.keys():\n",
        "     d[x]=d[x]+1\n",
        "  else:\n",
        "     d[x]=1\n",
        "for k,v in d.items():\n",
        "   print(\"{} = {} Times\".format(k,v))"
      ],
      "metadata": {
        "colab": {
          "base_uri": "https://localhost:8080/"
        },
        "id": "r-E00CI0AQoj",
        "outputId": "4ff6866b-1bd0-4ea1-98eb-07a098901ffc"
      },
      "execution_count": 32,
      "outputs": [
        {
          "output_type": "stream",
          "name": "stdout",
          "text": [
            "Enter Some String:aaabbbdddeee\n",
            "a = 3 Times\n",
            "b = 3 Times\n",
            "d = 3 Times\n",
            "e = 3 Times\n"
          ]
        }
      ]
    },
    {
      "cell_type": "code",
      "source": [
        "s=\"aaasssddd\"\n",
        "d={}\n",
        "for x in s:\n",
        "  if x in d.keys():\n",
        "     d[x]=d[x]+1\n",
        "  else:\n",
        "     d[x]=1\n",
        "print(d)"
      ],
      "metadata": {
        "colab": {
          "base_uri": "https://localhost:8080/"
        },
        "id": "_dvaf2j6Am8r",
        "outputId": "9008e151-a653-478d-82ba-4dfa7ad70327"
      },
      "execution_count": 36,
      "outputs": [
        {
          "output_type": "stream",
          "name": "stdout",
          "text": [
            "{'a': 3, 's': 3, 'd': 3}\n"
          ]
        }
      ]
    }
  ]
}