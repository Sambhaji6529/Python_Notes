{
  "nbformat": 4,
  "nbformat_minor": 0,
  "metadata": {
    "colab": {
      "provenance": [],
      "authorship_tag": "ABX9TyOiurwS1D+doP8lDuBVwrmI",
      "include_colab_link": true
    },
    "kernelspec": {
      "name": "python3",
      "display_name": "Python 3"
    },
    "language_info": {
      "name": "python"
    }
  },
  "cells": [
    {
      "cell_type": "markdown",
      "metadata": {
        "id": "view-in-github",
        "colab_type": "text"
      },
      "source": [
        "<a href=\"https://colab.research.google.com/github/Sambhaji6529/Python_Notes/blob/main/Basic_python_.ipynb\" target=\"_parent\"><img src=\"https://colab.research.google.com/assets/colab-badge.svg\" alt=\"Open In Colab\"/></a>"
      ]
    },
    {
      "cell_type": "markdown",
      "source": [
        "# **Python**"
      ],
      "metadata": {
        "id": "eCW7f9Jm7cOP"
      }
    },
    {
      "cell_type": "markdown",
      "source": [
        "Python is a general purpose high level programming language.\n",
        "\n",
        " Python was developed by Guido Van Rossam in 1989 while working at National Research Institute at Netherlands.\n",
        "\n",
        " But officially Python was made available to public in 1991. The official Date of Birth for\n",
        "\n",
        "Python is : Feb 20th 1991.\n",
        "\n",
        " Python is recommended as first programming language for beginners.\n",
        "\n",
        "\n",
        "Eg1: To print Helloworld"
      ],
      "metadata": {
        "id": "1hECwqfx7oZz"
      }
    },
    {
      "cell_type": "code",
      "execution_count": null,
      "metadata": {
        "colab": {
          "base_uri": "https://localhost:8080/"
        },
        "id": "3GYMDtotQ_j1",
        "outputId": "9bc30652-34b0-4df2-e137-69269601a774"
      },
      "outputs": [
        {
          "output_type": "stream",
          "name": "stdout",
          "text": [
            "Hello world\n"
          ]
        }
      ],
      "source": [
        "print(\"Hello world\")"
      ]
    },
    {
      "cell_type": "code",
      "source": [
        "Java:\n",
        "public class HelloWorld\n",
        "{\n",
        "p s v main(String[] args)\n",
        "{\n",
        "SOP(\"Hello world\");\n",
        "}\n",
        "}\n",
        "\n",
        "\n",
        "C:\n",
        "#include<stdio.h>\n",
        "void main()\n",
        "{\n",
        "print(\"Hello world\");\n",
        "}\n",
        "\n",
        "Python:\n",
        "print(\"Hello World\")"
      ],
      "metadata": {
        "id": "M_hfXdV27-qc"
      },
      "execution_count": null,
      "outputs": []
    },
    {
      "cell_type": "markdown",
      "source": [
        "Where we can use Python: We can use everywhere. The most common important application areas are\n",
        "\n",
        "1) For developing Desktop Applications\n",
        "\n",
        "2) For developing web Applications\n",
        "\n",
        "3) For developing database Applications\n",
        "\n",
        "4) For Network Programming\n",
        "\n",
        "5) For developing games\n",
        "\n",
        "6) For Data Analysis Applications\n",
        "\n",
        "7) For Machine Learning\n",
        "\n",
        "8) For developing Artificial Intelligence Applications\n",
        "\n",
        "9) For IoT\n",
        "\n"
      ],
      "metadata": {
        "id": "G1TZHlnh73SC"
      }
    },
    {
      "cell_type": "markdown",
      "source": [
        "# **Variables**"
      ],
      "metadata": {
        "id": "DRJUB2V68DW2"
      }
    },
    {
      "cell_type": "markdown",
      "source": [
        "VARIABLES are entities which help us store information and retrieve it later.\n",
        "\n",
        "\n",
        "\n",
        " \n",
        "\n",
        "*  A variable with a fixed name can store information of nature like numeric, textual, boolean etc.\n",
        "*   A Python variable is a reserved memory location to store values. In other words, a variable in a python program gives data to the computer for processing.\n",
        "\n",
        "\n",
        "\n",
        "*  The type of data contained in a variable can be changed at user's will.\n",
        "\n",
        "\n",
        "\n",
        "\n",
        "\n",
        "\n",
        "\n",
        "\n"
      ],
      "metadata": {
        "id": "_fTxobR08H7I"
      }
    },
    {
      "cell_type": "code",
      "source": [
        "x=150\n",
        "print(x)"
      ],
      "metadata": {
        "colab": {
          "base_uri": "https://localhost:8080/"
        },
        "id": "t2eoArOGSJGe",
        "outputId": "b97580fd-d016-4aec-9bf8-62a095aca8a7"
      },
      "execution_count": null,
      "outputs": [
        {
          "output_type": "stream",
          "name": "stdout",
          "text": [
            "150\n"
          ]
        }
      ]
    },
    {
      "cell_type": "code",
      "source": [
        "y=199.999\n",
        "y"
      ],
      "metadata": {
        "colab": {
          "base_uri": "https://localhost:8080/"
        },
        "id": "Sg0JJJr2SXvc",
        "outputId": "3b24c2b3-127a-45ec-b829-7b72b0721a51"
      },
      "execution_count": 3,
      "outputs": [
        {
          "output_type": "execute_result",
          "data": {
            "text/plain": [
              "199.999"
            ]
          },
          "metadata": {},
          "execution_count": 3
        }
      ]
    },
    {
      "cell_type": "code",
      "source": [
        "print(y)\n"
      ],
      "metadata": {
        "colab": {
          "base_uri": "https://localhost:8080/"
        },
        "id": "ijzssXP4TC3B",
        "outputId": "eed97f7a-3825-4a5c-b25e-e6853d5a25e7"
      },
      "execution_count": 5,
      "outputs": [
        {
          "output_type": "stream",
          "name": "stdout",
          "text": [
            "199.999\n"
          ]
        }
      ]
    },
    {
      "cell_type": "code",
      "source": [
        " ca$h =20"
      ],
      "metadata": {
        "id": "ExyJEpAa_BzJ"
      },
      "execution_count": null,
      "outputs": []
    },
    {
      "cell_type": "markdown",
      "source": [
        "# Rules to define Identifiers/variables in Python:"
      ],
      "metadata": {
        "id": "VFSN41JZ-IhR"
      }
    },
    {
      "cell_type": "markdown",
      "source": [
        "\n",
        "\n",
        "1.The only allowed characters in Python are.   \n",
        "\n",
        " alphabet symbols(either lower case or upper case)\n",
        "\n",
        " digits(0 to 9)\n",
        "\n",
        " underscore symbol(_)\n",
        "\n",
        "By mistake if we are using any other symbol like $ then we will get syntax error.\n",
        "\n",
        " cash = 10 √\n",
        "\n",
        " ca$h =20 #wrong syntax\n",
        "      \n",
        "     2. Identifier should not starts with digit\n",
        "\n",
        " 123total #wrong syntax\n",
        "\n",
        " total123 √\n",
        "   \n",
        "   3.Identifiers are case sensitive. Of course Python language is case sensitive language.\n",
        "\n",
        " total=10\n",
        "\n",
        " TOTAL=999\n",
        "\n",
        " print(total) #10\n",
        "\n",
        " print(TOTAL) #999"
      ],
      "metadata": {
        "id": "ut12i53E-QU3"
      }
    },
    {
      "cell_type": "markdown",
      "source": [
        "Identifier/Variable:\n",
        "\n",
        "1) Alphabet Symbols (Either Upper case OR Lower case)\n",
        "\n",
        "2) If Identifier is start with Underscore (_) then it indicates it is private.\n",
        "\n",
        "3) Identifier should not start with Digits.\n",
        "\n",
        "4) Identifiers are case sensitive.\n",
        "\n",
        "5) We cannot use reserved words as identifiers Eg: def = 10 #wrong\n",
        "\n",
        "6) There is no length limit for Python identifiers. But not recommended to use too lengthy identifiers.\n",
        "\n",
        "7) Dollor ($) Symbol is not allowed in Python.\n",
        "\n",
        "8) We can not use reserved words as variable names or identifiers."
      ],
      "metadata": {
        "id": "4pK9tm0__XsX"
      }
    },
    {
      "cell_type": "code",
      "source": [
        "def1 = 10.5\n",
        "suraj = 50\n",
        "prasad = 60"
      ],
      "metadata": {
        "id": "Uzh65ERo_clS"
      },
      "execution_count": null,
      "outputs": []
    },
    {
      "cell_type": "code",
      "source": [
        "# We can not use reserved words as variable names or identifiers.\n",
        "import keyword \n",
        "keyword.kwlist"
      ],
      "metadata": {
        "colab": {
          "base_uri": "https://localhost:8080/"
        },
        "id": "_1rnuEIZTHFM",
        "outputId": "1ce898d6-c777-4b2f-be8f-6b6266923670"
      },
      "execution_count": null,
      "outputs": [
        {
          "output_type": "execute_result",
          "data": {
            "text/plain": [
              "['False',\n",
              " 'None',\n",
              " 'True',\n",
              " 'and',\n",
              " 'as',\n",
              " 'assert',\n",
              " 'async',\n",
              " 'await',\n",
              " 'break',\n",
              " 'class',\n",
              " 'continue',\n",
              " 'def',\n",
              " 'del',\n",
              " 'elif',\n",
              " 'else',\n",
              " 'except',\n",
              " 'finally',\n",
              " 'for',\n",
              " 'from',\n",
              " 'global',\n",
              " 'if',\n",
              " 'import',\n",
              " 'in',\n",
              " 'is',\n",
              " 'lambda',\n",
              " 'nonlocal',\n",
              " 'not',\n",
              " 'or',\n",
              " 'pass',\n",
              " 'raise',\n",
              " 'return',\n",
              " 'try',\n",
              " 'while',\n",
              " 'with',\n",
              " 'yield']"
            ]
          },
          "metadata": {},
          "execution_count": 13
        }
      ]
    },
    {
      "cell_type": "markdown",
      "source": [
        "# **Data Types**"
      ],
      "metadata": {
        "id": "SlyHjsRT_q9N"
      }
    },
    {
      "cell_type": "markdown",
      "source": [
        "Data Type represents the type of data present inside a variable.\n",
        "\n",
        "Python contains the following inbuilt data types:\n",
        "\n",
        "1) Int 2) Float 3) Complex 4) Bool 5) Str 6) Bytes 7) Bytearray 8) Range 9) List 10) Tuple 11) Set 12) Frozenset 13) Dict 14) None"
      ],
      "metadata": {
        "id": "F2375tug_v7v"
      }
    },
    {
      "cell_type": "code",
      "source": [
        "#1) type()\n",
        "#to check the type of variable\n",
        "y=13\n",
        "print(type(y))\n",
        "\n",
        "#2)id()\n",
        "#to get address of object\n",
        "id(y)"
      ],
      "metadata": {
        "id": "eBNCKz4aWYcg",
        "colab": {
          "base_uri": "https://localhost:8080/"
        },
        "outputId": "6666dcb5-435b-4de4-ba3a-5fcfde269050"
      },
      "execution_count": null,
      "outputs": [
        {
          "output_type": "stream",
          "name": "stdout",
          "text": [
            "<class 'int'>\n"
          ]
        },
        {
          "output_type": "execute_result",
          "data": {
            "text/plain": [
              "11127072"
            ]
          },
          "metadata": {},
          "execution_count": 1
        }
      ]
    },
    {
      "cell_type": "code",
      "source": [
        "#both variables are saved to save location\n",
        "a=2\n",
        "b=5\n",
        "\n",
        "#a=b\n",
        "print(id(a))\n",
        "print(id(b))"
      ],
      "metadata": {
        "colab": {
          "base_uri": "https://localhost:8080/"
        },
        "id": "S6Sr80fj3Qx1",
        "outputId": "2a9492c3-c40b-40cd-9c26-868e7c4eb05a"
      },
      "execution_count": null,
      "outputs": [
        {
          "output_type": "stream",
          "name": "stdout",
          "text": [
            "11126720\n",
            "11126816\n"
          ]
        }
      ]
    },
    {
      "cell_type": "markdown",
      "source": [
        "1) Integer Data Type\n",
        "\n"
      ],
      "metadata": {
        "id": "Iv73y3tr4A9V"
      }
    },
    {
      "cell_type": "code",
      "source": [
        "#We can use int data type to represent whole numbers (integral values)\n",
        "a=100\n",
        "print(type(a))"
      ],
      "metadata": {
        "colab": {
          "base_uri": "https://localhost:8080/"
        },
        "id": "UE4A_qOx3oC3",
        "outputId": "6d438886-23bc-4434-8a13-81fcdc8a48b5"
      },
      "execution_count": null,
      "outputs": [
        {
          "output_type": "stream",
          "name": "stdout",
          "text": [
            "<class 'int'>\n"
          ]
        }
      ]
    },
    {
      "cell_type": "markdown",
      "source": [
        "2) Float Data Type"
      ],
      "metadata": {
        "id": "DcgIXnx04Uud"
      }
    },
    {
      "cell_type": "code",
      "source": [
        "#We can use float data type to represent floating point values (decimal values)\n",
        "f = 1.234\n",
        "print(type(f))\n",
        "#We can also represent floating point values by using exponential form\n",
        "#(Scientific Notation)\n",
        "f=1.2e3# instead of 'e' we can use 'E'\n",
        "print(f) # 1200.0 \n",
        "j = int(f)\n",
        "j"
      ],
      "metadata": {
        "colab": {
          "base_uri": "https://localhost:8080/"
        },
        "id": "PdjVqh3f4RbB",
        "outputId": "5ae9e77c-b9a3-44a3-afc5-ae71061eae9a"
      },
      "execution_count": null,
      "outputs": [
        {
          "output_type": "stream",
          "name": "stdout",
          "text": [
            "<class 'float'>\n",
            "1200.0\n"
          ]
        },
        {
          "output_type": "execute_result",
          "data": {
            "text/plain": [
              "1200"
            ]
          },
          "metadata": {},
          "execution_count": 10
        }
      ]
    },
    {
      "cell_type": "markdown",
      "source": [
        "3) Complex data Type\n",
        "\n",
        "\n",
        "\n",
        "\n",
        "![download.jpeg](data:image/jpeg;base64,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)"
      ],
      "metadata": {
        "id": "6qQf4OLC-1wl"
      }
    },
    {
      "cell_type": "markdown",
      "source": [
        "In the real part if we use int value then we can specify that either by decimal, octal, binary or hexa decimal form.\n",
        "\n",
        "But imaginary part should be specified only by using decimal form"
      ],
      "metadata": {
        "id": "CVKXor2sCAX-"
      }
    },
    {
      "cell_type": "code",
      "source": [
        "a = 3+5j\n",
        "a"
      ],
      "metadata": {
        "colab": {
          "base_uri": "https://localhost:8080/"
        },
        "id": "QWCRCdmz-5Pw",
        "outputId": "885d6abb-ae4d-467d-d05b-e2db4396e235"
      },
      "execution_count": null,
      "outputs": [
        {
          "output_type": "execute_result",
          "data": {
            "text/plain": [
              "(3+5j)"
            ]
          },
          "metadata": {},
          "execution_count": 12
        }
      ]
    },
    {
      "cell_type": "code",
      "source": [
        "#Operations on complex numbers\n",
        "#We can use complex type generally in scientific Applications and electrical engineering Applicatioa=10+1.5j\n",
        "a=10+1.5j\n",
        "b=20+2.5j\n",
        "c=a+b\n",
        "print(c)"
      ],
      "metadata": {
        "colab": {
          "base_uri": "https://localhost:8080/"
        },
        "id": "uBs2GqEa_MHu",
        "outputId": "caa47ce8-1277-472d-bafe-eb4107bd4a35"
      },
      "execution_count": null,
      "outputs": [
        {
          "output_type": "stream",
          "name": "stdout",
          "text": [
            "(30+4j)\n"
          ]
        }
      ]
    },
    {
      "cell_type": "code",
      "source": [
        "def mulComplex (z1,z2):\n",
        "  return z1*z2\n",
        "\n",
        "  z1 = complex(2,3)\n",
        "  z2 = complex(4,5)\n",
        "  print(\"Multiplication is :\", mulComplex(z1,z2))\n"
      ],
      "metadata": {
        "id": "Bg-7WRqz_fbP"
      },
      "execution_count": null,
      "outputs": []
    },
    {
      "cell_type": "markdown",
      "source": [
        "4) Bool Data Type (Ture Or Flase)"
      ],
      "metadata": {
        "id": "NZEuuFe9JzQH"
      }
    },
    {
      "cell_type": "markdown",
      "source": [
        "We can use this data type to represent boolean values.\n",
        "\n",
        " The only allowed values for this data type are:\n",
        "\n",
        " True and False\n",
        "\n",
        " Internally Python represents True as 1 and False as 0\n",
        "\n",
        "b = True type(b) # bool\n"
      ],
      "metadata": {
        "id": "S_bVdJUDCWBk"
      }
    },
    {
      "cell_type": "code",
      "source": [
        "#Eg:\n",
        "a=10\n",
        "b=20\n",
        "c=a>b\n",
        "print(c)"
      ],
      "metadata": {
        "colab": {
          "base_uri": "https://localhost:8080/"
        },
        "id": "EIWAYEB5JoBU",
        "outputId": "e37f3367-d5f8-4e47-fa38-01cd7935d5cd"
      },
      "execution_count": null,
      "outputs": [
        {
          "output_type": "stream",
          "name": "stdout",
          "text": [
            "False\n"
          ]
        }
      ]
    },
    {
      "cell_type": "code",
      "source": [
        "True + True"
      ],
      "metadata": {
        "colab": {
          "base_uri": "https://localhost:8080/"
        },
        "id": "gxalfdsMJ-Vl",
        "outputId": "f5556858-7883-4766-97aa-947f44b9c779"
      },
      "execution_count": null,
      "outputs": [
        {
          "output_type": "execute_result",
          "data": {
            "text/plain": [
              "2"
            ]
          },
          "metadata": {},
          "execution_count": 23
        }
      ]
    },
    {
      "cell_type": "code",
      "source": [
        "True-False"
      ],
      "metadata": {
        "colab": {
          "base_uri": "https://localhost:8080/"
        },
        "id": "lL7D_pDxKEVY",
        "outputId": "0469181d-c9af-46bb-9116-f8ae22859e0a"
      },
      "execution_count": null,
      "outputs": [
        {
          "output_type": "execute_result",
          "data": {
            "text/plain": [
              "1"
            ]
          },
          "metadata": {},
          "execution_count": 24
        }
      ]
    },
    {
      "cell_type": "markdown",
      "source": [
        "5) String(str) Data Type\n",
        "\n",
        "A String is a sequence of characters enclosed within single quotes or double quotes."
      ],
      "metadata": {
        "id": "zffedf2dKZsA"
      }
    },
    {
      "cell_type": "code",
      "source": [
        "a1 = \"Artificial Integllience\"\n",
        "print(type(a1))\n",
        "a2= 2\n",
        "print(type(a2))"
      ],
      "metadata": {
        "colab": {
          "base_uri": "https://localhost:8080/"
        },
        "id": "ahby1HtwKhPV",
        "outputId": "fdc42b3a-fe88-447f-eaec-03acf523d8af"
      },
      "execution_count": null,
      "outputs": [
        {
          "output_type": "stream",
          "name": "stdout",
          "text": [
            "<class 'str'>\n",
            "<class 'int'>\n"
          ]
        }
      ]
    },
    {
      "cell_type": "code",
      "source": [
        "#multi line string literals\n",
        "a2= \"\"\"Artifical \n",
        "      Intelligence\"\"\"\n",
        "a2"
      ],
      "metadata": {
        "colab": {
          "base_uri": "https://localhost:8080/",
          "height": 35
        },
        "id": "iqDOyg98LZim",
        "outputId": "0c3816ba-3aaa-4dae-b41b-d068589361f1"
      },
      "execution_count": null,
      "outputs": [
        {
          "output_type": "execute_result",
          "data": {
            "text/plain": [
              "'Artifical \\n      Intelligence'"
            ],
            "application/vnd.google.colaboratory.intrinsic+json": {
              "type": "string"
            }
          },
          "metadata": {},
          "execution_count": 37
        }
      ]
    },
    {
      "cell_type": "markdown",
      "source": [
        "6) Slicing Of String\n",
        "\n",
        "slice means a piece\n",
        "\n",
        "2) [ ] operator is called slice operator, which can be used to retrieve parts of String.\n",
        "\n",
        "3) In Python Strings follows zero based index.\n",
        "\n",
        "4) The index can be either +ve or -ve.\n",
        "\n",
        "5) +ve index means forward direction from Left to Right\n",
        "\n",
        "6) -ve index means backward direction from Right to Left"
      ],
      "metadata": {
        "id": "XAIiPOUuMLsi"
      }
    },
    {
      "cell_type": "code",
      "source": [
        "a= \"Python\"\n"
      ],
      "metadata": {
        "id": "N8p3cslhMSBS"
      },
      "execution_count": null,
      "outputs": []
    },
    {
      "cell_type": "code",
      "source": [
        "a1= \"Artifical Intelligence\"\n",
        "print(a1[-3])\n",
        "type(a1) #Type of a1 variable is string"
      ],
      "metadata": {
        "colab": {
          "base_uri": "https://localhost:8080/"
        },
        "id": "BhQ78ikKMXwa",
        "outputId": "ffdea3c2-6ee0-4df5-a0f1-ab9bb634b9d0"
      },
      "execution_count": null,
      "outputs": [
        {
          "output_type": "stream",
          "name": "stdout",
          "text": [
            "n\n"
          ]
        },
        {
          "output_type": "execute_result",
          "data": {
            "text/plain": [
              "str"
            ]
          },
          "metadata": {},
          "execution_count": 49
        }
      ]
    },
    {
      "cell_type": "code",
      "source": [
        "a1[-1]"
      ],
      "metadata": {
        "colab": {
          "base_uri": "https://localhost:8080/",
          "height": 35
        },
        "id": "JP80kO6lNCWu",
        "outputId": "45c13455-4d64-4e63-9ea4-9ab6aeca74e4"
      },
      "execution_count": null,
      "outputs": [
        {
          "output_type": "execute_result",
          "data": {
            "text/plain": [
              "'e'"
            ],
            "application/vnd.google.colaboratory.intrinsic+json": {
              "type": "string"
            }
          },
          "metadata": {},
          "execution_count": 50
        }
      ]
    },
    {
      "cell_type": "code",
      "source": [
        "a1[3:4]"
      ],
      "metadata": {
        "colab": {
          "base_uri": "https://localhost:8080/",
          "height": 35
        },
        "id": "oz3uDEtiNbUM",
        "outputId": "302815fc-2abb-4203-def9-850cfc34fd6e"
      },
      "execution_count": null,
      "outputs": [
        {
          "output_type": "execute_result",
          "data": {
            "text/plain": [
              "'i'"
            ],
            "application/vnd.google.colaboratory.intrinsic+json": {
              "type": "string"
            }
          },
          "metadata": {},
          "execution_count": 56
        }
      ]
    },
    {
      "cell_type": "code",
      "source": [
        "# Extract first four letters\n",
        "a1[:4]"
      ],
      "metadata": {
        "colab": {
          "base_uri": "https://localhost:8080/",
          "height": 35
        },
        "id": "kSyMrlJ4PRSa",
        "outputId": "0ada67f3-4b05-448e-b2ec-e8c513747608"
      },
      "execution_count": null,
      "outputs": [
        {
          "output_type": "execute_result",
          "data": {
            "text/plain": [
              "'Arti'"
            ],
            "application/vnd.google.colaboratory.intrinsic+json": {
              "type": "string"
            }
          },
          "metadata": {},
          "execution_count": 57
        }
      ]
    },
    {
      "cell_type": "code",
      "source": [
        "# Extract all the letters\n",
        "a1[:]"
      ],
      "metadata": {
        "colab": {
          "base_uri": "https://localhost:8080/",
          "height": 35
        },
        "id": "mzDfRRpYPXGw",
        "outputId": "76678cff-d753-4c33-97f1-070032ffd8cc"
      },
      "execution_count": null,
      "outputs": [
        {
          "output_type": "execute_result",
          "data": {
            "text/plain": [
              "'Artifical Intelligence'"
            ],
            "application/vnd.google.colaboratory.intrinsic+json": {
              "type": "string"
            }
          },
          "metadata": {},
          "execution_count": 63
        }
      ]
    },
    {
      "cell_type": "code",
      "source": [
        "# Find the length of the string\n",
        "a1 = \" Artifical Intelligence \"\n",
        "a1[0]"
      ],
      "metadata": {
        "colab": {
          "base_uri": "https://localhost:8080/",
          "height": 35
        },
        "id": "21TKITwPPm5D",
        "outputId": "f8a1d965-2efb-42ca-b6a5-7ccf7339d5a8"
      },
      "execution_count": null,
      "outputs": [
        {
          "output_type": "execute_result",
          "data": {
            "text/plain": [
              "' '"
            ],
            "application/vnd.google.colaboratory.intrinsic+json": {
              "type": "string"
            }
          },
          "metadata": {},
          "execution_count": 66
        }
      ]
    },
    {
      "cell_type": "code",
      "source": [
        "m=20\n",
        "n=10\n",
        "float(m*n)"
      ],
      "metadata": {
        "id": "5Jd8IzlDRM-5",
        "outputId": "876ccef2-aa84-4131-8809-ec2f7a7f79ed",
        "colab": {
          "base_uri": "https://localhost:8080/"
        }
      },
      "execution_count": null,
      "outputs": [
        {
          "output_type": "execute_result",
          "data": {
            "text/plain": [
              "200.0"
            ]
          },
          "metadata": {},
          "execution_count": 67
        }
      ]
    },
    {
      "cell_type": "code",
      "source": [
        "a=int(input(\"Enter First number:\"))\n",
        "b=int(input(\"Enter second number:\"))\n",
        "c=int(input(\"Enter third number:\"))\n",
        "min=a if a<b and a<c else b if b<c else c\n",
        "print(\"Minimum value:\",min)"
      ],
      "metadata": {
        "colab": {
          "base_uri": "https://localhost:8080/"
        },
        "id": "U2fBd_eZrmdq",
        "outputId": "6e5ea576-f053-4136-8876-825652240296"
      },
      "execution_count": null,
      "outputs": [
        {
          "output_type": "stream",
          "name": "stdout",
          "text": [
            "Enter First number:10\n",
            "Enter second number:10\n",
            "Enter third number:30\n",
            "Minimum value: 10\n"
          ]
        }
      ]
    },
    {
      "cell_type": "code",
      "source": [
        "a=int(input(\"Enter First number:\"))\n",
        "b=int(input(\"Enter second number:\"))\n",
        "c=int(input(\"Enter third number:\"))\n",
        "maxi=a if a>b and a>c else b if b>c else c\n",
        "print(\"Maximum value:\",maxi)"
      ],
      "metadata": {
        "colab": {
          "base_uri": "https://localhost:8080/"
        },
        "id": "C2hsJUQJsb5W",
        "outputId": "5de865b6-708f-4906-9609-64bcd3573904"
      },
      "execution_count": null,
      "outputs": [
        {
          "output_type": "stream",
          "name": "stdout",
          "text": [
            "Enter First number:10\n",
            "Enter second number:25\n",
            "Enter third number:30\n",
            "Maximum value: 30\n"
          ]
        }
      ]
    }
  ]
}